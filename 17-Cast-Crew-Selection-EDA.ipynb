{
 "cells": [
  {
   "cell_type": "code",
   "execution_count": null,
   "metadata": {},
   "outputs": [],
   "source": []
  },
  {
   "cell_type": "code",
   "execution_count": 1,
   "metadata": {},
   "outputs": [],
   "source": [
    "import pandas as pd"
   ]
  },
  {
   "cell_type": "code",
   "execution_count": 2,
   "metadata": {},
   "outputs": [
    {
     "data": {
      "text/plain": [
       "(122068, 23)"
      ]
     },
     "execution_count": 2,
     "metadata": {},
     "output_type": "execute_result"
    }
   ],
   "source": [
    "castCrewSelections = pd.read_pickle('v1_castCrewSelections.pkl')\n",
    "\n",
    "castCrewSelections.shape"
   ]
  },
  {
   "cell_type": "code",
   "execution_count": 3,
   "metadata": {},
   "outputs": [
    {
     "data": {
      "text/plain": [
       "(4532, 12)"
      ]
     },
     "execution_count": 3,
     "metadata": {},
     "output_type": "execute_result"
    }
   ],
   "source": [
    "movieSelections95Pct = pd.read_pickle('v1_movieSelections95Pct.pkl')\n",
    "\n",
    "movieSelections95Pct.shape"
   ]
  },
  {
   "cell_type": "code",
   "execution_count": 4,
   "metadata": {},
   "outputs": [
    {
     "data": {
      "text/plain": [
       "(21276, 34)"
      ]
     },
     "execution_count": 4,
     "metadata": {},
     "output_type": "execute_result"
    }
   ],
   "source": [
    "castCrewSelections95Pct = castCrewSelections.merge(movieSelections95Pct, left_on='tconst', right_on='tconst', how='inner')\n",
    "\n",
    "castCrewSelections95Pct.shape"
   ]
  },
  {
   "cell_type": "code",
   "execution_count": 5,
   "metadata": {},
   "outputs": [
    {
     "data": {
      "text/html": [
       "<div>\n",
       "<style scoped>\n",
       "    .dataframe tbody tr th:only-of-type {\n",
       "        vertical-align: middle;\n",
       "    }\n",
       "\n",
       "    .dataframe tbody tr th {\n",
       "        vertical-align: top;\n",
       "    }\n",
       "\n",
       "    .dataframe thead th {\n",
       "        text-align: right;\n",
       "    }\n",
       "</style>\n",
       "<table border=\"1\" class=\"dataframe\">\n",
       "  <thead>\n",
       "    <tr style=\"text-align: right;\">\n",
       "      <th></th>\n",
       "      <th>tconst</th>\n",
       "      <th>ordering</th>\n",
       "      <th>nconst</th>\n",
       "      <th>category</th>\n",
       "      <th>job</th>\n",
       "      <th>characters</th>\n",
       "      <th>primaryName</th>\n",
       "      <th>birthYear</th>\n",
       "      <th>deathYear</th>\n",
       "      <th>primaryProfession</th>\n",
       "      <th>...</th>\n",
       "      <th>primaryTitle_y</th>\n",
       "      <th>originalTitle_y</th>\n",
       "      <th>isAdult_y</th>\n",
       "      <th>startYear_y</th>\n",
       "      <th>endYear_y</th>\n",
       "      <th>runtimeMinutes_y</th>\n",
       "      <th>genres_y</th>\n",
       "      <th>titleId_y</th>\n",
       "      <th>averageRating_y</th>\n",
       "      <th>numVotes_y</th>\n",
       "    </tr>\n",
       "  </thead>\n",
       "  <tbody>\n",
       "    <tr>\n",
       "      <th>0</th>\n",
       "      <td>tt0029843</td>\n",
       "      <td>2</td>\n",
       "      <td>nm0000014</td>\n",
       "      <td>actress</td>\n",
       "      <td>\\N</td>\n",
       "      <td>[\"Maid Marian\"]</td>\n",
       "      <td>Olivia de Havilland</td>\n",
       "      <td>1916</td>\n",
       "      <td>\\N</td>\n",
       "      <td>actress,soundtrack</td>\n",
       "      <td>...</td>\n",
       "      <td>The Adventures of Robin Hood</td>\n",
       "      <td>The Adventures of Robin Hood</td>\n",
       "      <td>0</td>\n",
       "      <td>1938</td>\n",
       "      <td>\\N</td>\n",
       "      <td>102</td>\n",
       "      <td>Action,Adventure,Romance</td>\n",
       "      <td>tt0029843</td>\n",
       "      <td>8.0</td>\n",
       "      <td>42316</td>\n",
       "    </tr>\n",
       "    <tr>\n",
       "      <th>1</th>\n",
       "      <td>tt0061809</td>\n",
       "      <td>1</td>\n",
       "      <td>nm0086706</td>\n",
       "      <td>actor</td>\n",
       "      <td>\\N</td>\n",
       "      <td>[\"Perry\"]</td>\n",
       "      <td>Robert Blake</td>\n",
       "      <td>1933</td>\n",
       "      <td>\\N</td>\n",
       "      <td>actor,writer,producer</td>\n",
       "      <td>...</td>\n",
       "      <td>In Cold Blood</td>\n",
       "      <td>In Cold Blood</td>\n",
       "      <td>0</td>\n",
       "      <td>1967</td>\n",
       "      <td>\\N</td>\n",
       "      <td>134</td>\n",
       "      <td>Biography,Crime,Drama</td>\n",
       "      <td>tt0061809</td>\n",
       "      <td>8.0</td>\n",
       "      <td>21252</td>\n",
       "    </tr>\n",
       "    <tr>\n",
       "      <th>2</th>\n",
       "      <td>tt0061809</td>\n",
       "      <td>2</td>\n",
       "      <td>nm0934113</td>\n",
       "      <td>actor</td>\n",
       "      <td>\\N</td>\n",
       "      <td>[\"Dick\"]</td>\n",
       "      <td>Scott Wilson</td>\n",
       "      <td>1942</td>\n",
       "      <td>\\N</td>\n",
       "      <td>actor</td>\n",
       "      <td>...</td>\n",
       "      <td>In Cold Blood</td>\n",
       "      <td>In Cold Blood</td>\n",
       "      <td>0</td>\n",
       "      <td>1967</td>\n",
       "      <td>\\N</td>\n",
       "      <td>134</td>\n",
       "      <td>Biography,Crime,Drama</td>\n",
       "      <td>tt0061809</td>\n",
       "      <td>8.0</td>\n",
       "      <td>21252</td>\n",
       "    </tr>\n",
       "    <tr>\n",
       "      <th>3</th>\n",
       "      <td>tt0113845</td>\n",
       "      <td>4</td>\n",
       "      <td>nm0086706</td>\n",
       "      <td>actor</td>\n",
       "      <td>\\N</td>\n",
       "      <td>[\"Donald Patterson\"]</td>\n",
       "      <td>Robert Blake</td>\n",
       "      <td>1933</td>\n",
       "      <td>\\N</td>\n",
       "      <td>actor,writer,producer</td>\n",
       "      <td>...</td>\n",
       "      <td>Money Train</td>\n",
       "      <td>Money Train</td>\n",
       "      <td>0</td>\n",
       "      <td>1995</td>\n",
       "      <td>\\N</td>\n",
       "      <td>110</td>\n",
       "      <td>Action,Comedy,Crime</td>\n",
       "      <td>tt0113845</td>\n",
       "      <td>5.6</td>\n",
       "      <td>35160</td>\n",
       "    </tr>\n",
       "    <tr>\n",
       "      <th>4</th>\n",
       "      <td>tt0113845</td>\n",
       "      <td>5</td>\n",
       "      <td>nm0747849</td>\n",
       "      <td>director</td>\n",
       "      <td>\\N</td>\n",
       "      <td>\\N</td>\n",
       "      <td>Joseph Ruben</td>\n",
       "      <td>1950</td>\n",
       "      <td>\\N</td>\n",
       "      <td>director,writer,producer</td>\n",
       "      <td>...</td>\n",
       "      <td>Money Train</td>\n",
       "      <td>Money Train</td>\n",
       "      <td>0</td>\n",
       "      <td>1995</td>\n",
       "      <td>\\N</td>\n",
       "      <td>110</td>\n",
       "      <td>Action,Comedy,Crime</td>\n",
       "      <td>tt0113845</td>\n",
       "      <td>5.6</td>\n",
       "      <td>35160</td>\n",
       "    </tr>\n",
       "  </tbody>\n",
       "</table>\n",
       "<p>5 rows × 34 columns</p>\n",
       "</div>"
      ],
      "text/plain": [
       "      tconst  ordering     nconst  category job            characters  \\\n",
       "0  tt0029843         2  nm0000014   actress  \\N       [\"Maid Marian\"]   \n",
       "1  tt0061809         1  nm0086706     actor  \\N             [\"Perry\"]   \n",
       "2  tt0061809         2  nm0934113     actor  \\N              [\"Dick\"]   \n",
       "3  tt0113845         4  nm0086706     actor  \\N  [\"Donald Patterson\"]   \n",
       "4  tt0113845         5  nm0747849  director  \\N                    \\N   \n",
       "\n",
       "           primaryName  birthYear deathYear         primaryProfession  \\\n",
       "0  Olivia de Havilland       1916        \\N        actress,soundtrack   \n",
       "1         Robert Blake       1933        \\N     actor,writer,producer   \n",
       "2         Scott Wilson       1942        \\N                     actor   \n",
       "3         Robert Blake       1933        \\N     actor,writer,producer   \n",
       "4         Joseph Ruben       1950        \\N  director,writer,producer   \n",
       "\n",
       "     ...                    primaryTitle_y               originalTitle_y  \\\n",
       "0    ...      The Adventures of Robin Hood  The Adventures of Robin Hood   \n",
       "1    ...                     In Cold Blood                 In Cold Blood   \n",
       "2    ...                     In Cold Blood                 In Cold Blood   \n",
       "3    ...                       Money Train                   Money Train   \n",
       "4    ...                       Money Train                   Money Train   \n",
       "\n",
       "  isAdult_y startYear_y endYear_y  runtimeMinutes_y                  genres_y  \\\n",
       "0         0        1938        \\N               102  Action,Adventure,Romance   \n",
       "1         0        1967        \\N               134     Biography,Crime,Drama   \n",
       "2         0        1967        \\N               134     Biography,Crime,Drama   \n",
       "3         0        1995        \\N               110       Action,Comedy,Crime   \n",
       "4         0        1995        \\N               110       Action,Comedy,Crime   \n",
       "\n",
       "   titleId_y  averageRating_y numVotes_y  \n",
       "0  tt0029843              8.0      42316  \n",
       "1  tt0061809              8.0      21252  \n",
       "2  tt0061809              8.0      21252  \n",
       "3  tt0113845              5.6      35160  \n",
       "4  tt0113845              5.6      35160  \n",
       "\n",
       "[5 rows x 34 columns]"
      ]
     },
     "execution_count": 5,
     "metadata": {},
     "output_type": "execute_result"
    }
   ],
   "source": [
    "castCrewSelections95Pct.head()"
   ]
  },
  {
   "cell_type": "code",
   "execution_count": 6,
   "metadata": {},
   "outputs": [
    {
     "data": {
      "text/plain": [
       "(9557, 34)"
      ]
     },
     "execution_count": 6,
     "metadata": {},
     "output_type": "execute_result"
    }
   ],
   "source": [
    "actorSelections95Pct = castCrewSelections95Pct[castCrewSelections95Pct.category == 'actor']\n",
    "actorSelections95Pct.shape"
   ]
  },
  {
   "cell_type": "code",
   "execution_count": 7,
   "metadata": {},
   "outputs": [
    {
     "data": {
      "text/plain": [
       "(2772, 3)"
      ]
     },
     "execution_count": 7,
     "metadata": {},
     "output_type": "execute_result"
    }
   ],
   "source": [
    "actorSelections95PctAgg = (actorSelections95Pct.groupby('primaryName')\n",
    "   .agg({'tconst':'count', 'averageRating_y': 'mean'})\n",
    "   .reset_index()\n",
    "   .rename(columns={'Movies Titles':'Average Rating'})\n",
    "   )\n",
    "actorSelections95PctAgg.shape"
   ]
  },
  {
   "cell_type": "code",
   "execution_count": 8,
   "metadata": {},
   "outputs": [
    {
     "data": {
      "text/html": [
       "<div>\n",
       "<style scoped>\n",
       "    .dataframe tbody tr th:only-of-type {\n",
       "        vertical-align: middle;\n",
       "    }\n",
       "\n",
       "    .dataframe tbody tr th {\n",
       "        vertical-align: top;\n",
       "    }\n",
       "\n",
       "    .dataframe thead th {\n",
       "        text-align: right;\n",
       "    }\n",
       "</style>\n",
       "<table border=\"1\" class=\"dataframe\">\n",
       "  <thead>\n",
       "    <tr style=\"text-align: right;\">\n",
       "      <th></th>\n",
       "      <th>primaryName</th>\n",
       "      <th>tconst</th>\n",
       "      <th>averageRating_y</th>\n",
       "    </tr>\n",
       "  </thead>\n",
       "  <tbody>\n",
       "    <tr>\n",
       "      <th>0</th>\n",
       "      <td>'Weird Al' Yankovic</td>\n",
       "      <td>1</td>\n",
       "      <td>7.00</td>\n",
       "    </tr>\n",
       "    <tr>\n",
       "      <th>1</th>\n",
       "      <td>50 Cent</td>\n",
       "      <td>5</td>\n",
       "      <td>5.86</td>\n",
       "    </tr>\n",
       "    <tr>\n",
       "      <th>2</th>\n",
       "      <td>A. Michael Baldwin</td>\n",
       "      <td>1</td>\n",
       "      <td>6.80</td>\n",
       "    </tr>\n",
       "    <tr>\n",
       "      <th>3</th>\n",
       "      <td>AJ Bowen</td>\n",
       "      <td>1</td>\n",
       "      <td>6.50</td>\n",
       "    </tr>\n",
       "    <tr>\n",
       "      <th>4</th>\n",
       "      <td>Aamir Khan</td>\n",
       "      <td>3</td>\n",
       "      <td>7.30</td>\n",
       "    </tr>\n",
       "  </tbody>\n",
       "</table>\n",
       "</div>"
      ],
      "text/plain": [
       "           primaryName  tconst  averageRating_y\n",
       "0  'Weird Al' Yankovic       1             7.00\n",
       "1              50 Cent       5             5.86\n",
       "2   A. Michael Baldwin       1             6.80\n",
       "3             AJ Bowen       1             6.50\n",
       "4           Aamir Khan       3             7.30"
      ]
     },
     "execution_count": 8,
     "metadata": {},
     "output_type": "execute_result"
    }
   ],
   "source": [
    "actorSelections95PctAgg.head()"
   ]
  },
  {
   "cell_type": "code",
   "execution_count": 9,
   "metadata": {},
   "outputs": [
    {
     "data": {
      "text/plain": [
       "(209, 3)"
      ]
     },
     "execution_count": 9,
     "metadata": {},
     "output_type": "execute_result"
    }
   ],
   "source": [
    "actorSelections95PctAgg = actorSelections95PctAgg[actorSelections95PctAgg.tconst > 10]\n",
    "actorSelections95PctAgg.shape"
   ]
  },
  {
   "cell_type": "code",
   "execution_count": 10,
   "metadata": {},
   "outputs": [],
   "source": [
    "actorSelections95PctAgg.sort_values('averageRating_y', ascending=False, inplace=True)"
   ]
  },
  {
   "cell_type": "markdown",
   "metadata": {},
   "source": [
    "# Top 10 Actors Ranked by Highest Movie Rating With 10 or More Films "
   ]
  },
  {
   "cell_type": "code",
   "execution_count": 11,
   "metadata": {},
   "outputs": [
    {
     "data": {
      "text/html": [
       "<div>\n",
       "<style scoped>\n",
       "    .dataframe tbody tr th:only-of-type {\n",
       "        vertical-align: middle;\n",
       "    }\n",
       "\n",
       "    .dataframe tbody tr th {\n",
       "        vertical-align: top;\n",
       "    }\n",
       "\n",
       "    .dataframe thead th {\n",
       "        text-align: right;\n",
       "    }\n",
       "</style>\n",
       "<table border=\"1\" class=\"dataframe\">\n",
       "  <thead>\n",
       "    <tr style=\"text-align: right;\">\n",
       "      <th></th>\n",
       "      <th>primaryName</th>\n",
       "      <th>tconst</th>\n",
       "      <th>averageRating_y</th>\n",
       "    </tr>\n",
       "  </thead>\n",
       "  <tbody>\n",
       "    <tr>\n",
       "      <th>995</th>\n",
       "      <td>Ian McKellen</td>\n",
       "      <td>14</td>\n",
       "      <td>7.628571</td>\n",
       "    </tr>\n",
       "    <tr>\n",
       "      <th>1587</th>\n",
       "      <td>Leonardo DiCaprio</td>\n",
       "      <td>19</td>\n",
       "      <td>7.536842</td>\n",
       "    </tr>\n",
       "    <tr>\n",
       "      <th>2236</th>\n",
       "      <td>Ryan Gosling</td>\n",
       "      <td>19</td>\n",
       "      <td>7.278947</td>\n",
       "    </tr>\n",
       "    <tr>\n",
       "      <th>398</th>\n",
       "      <td>Chris Cooper</td>\n",
       "      <td>11</td>\n",
       "      <td>7.272727</td>\n",
       "    </tr>\n",
       "    <tr>\n",
       "      <th>425</th>\n",
       "      <td>Christian Bale</td>\n",
       "      <td>24</td>\n",
       "      <td>7.254167</td>\n",
       "    </tr>\n",
       "    <tr>\n",
       "      <th>273</th>\n",
       "      <td>Brad Pitt</td>\n",
       "      <td>34</td>\n",
       "      <td>7.214706</td>\n",
       "    </tr>\n",
       "    <tr>\n",
       "      <th>1511</th>\n",
       "      <td>Kevin Spacey</td>\n",
       "      <td>21</td>\n",
       "      <td>7.214286</td>\n",
       "    </tr>\n",
       "    <tr>\n",
       "      <th>2161</th>\n",
       "      <td>Robert Downey Jr.</td>\n",
       "      <td>25</td>\n",
       "      <td>7.200000</td>\n",
       "    </tr>\n",
       "    <tr>\n",
       "      <th>553</th>\n",
       "      <td>Daniel Radcliffe</td>\n",
       "      <td>13</td>\n",
       "      <td>7.184615</td>\n",
       "    </tr>\n",
       "    <tr>\n",
       "      <th>710</th>\n",
       "      <td>Dustin Hoffman</td>\n",
       "      <td>24</td>\n",
       "      <td>7.183333</td>\n",
       "    </tr>\n",
       "  </tbody>\n",
       "</table>\n",
       "</div>"
      ],
      "text/plain": [
       "            primaryName  tconst  averageRating_y\n",
       "995        Ian McKellen      14         7.628571\n",
       "1587  Leonardo DiCaprio      19         7.536842\n",
       "2236       Ryan Gosling      19         7.278947\n",
       "398        Chris Cooper      11         7.272727\n",
       "425      Christian Bale      24         7.254167\n",
       "273           Brad Pitt      34         7.214706\n",
       "1511       Kevin Spacey      21         7.214286\n",
       "2161  Robert Downey Jr.      25         7.200000\n",
       "553    Daniel Radcliffe      13         7.184615\n",
       "710      Dustin Hoffman      24         7.183333"
      ]
     },
     "execution_count": 11,
     "metadata": {},
     "output_type": "execute_result"
    }
   ],
   "source": [
    "actorSelections95PctAgg.head(10)"
   ]
  },
  {
   "cell_type": "code",
   "execution_count": 12,
   "metadata": {},
   "outputs": [
    {
     "data": {
      "text/plain": [
       "(5490, 34)"
      ]
     },
     "execution_count": 12,
     "metadata": {},
     "output_type": "execute_result"
    }
   ],
   "source": [
    "actressSelections95Pct = castCrewSelections95Pct[castCrewSelections95Pct.category == 'actress']\n",
    "actressSelections95Pct.shape"
   ]
  },
  {
   "cell_type": "code",
   "execution_count": 13,
   "metadata": {},
   "outputs": [
    {
     "data": {
      "text/plain": [
       "(1980, 3)"
      ]
     },
     "execution_count": 13,
     "metadata": {},
     "output_type": "execute_result"
    }
   ],
   "source": [
    "actressSelections95PctAgg = (actressSelections95Pct.groupby('primaryName')\n",
    "   .agg({'tconst':'count', 'averageRating_y': 'mean'})\n",
    "   .reset_index()\n",
    "   .rename(columns={'Movies Titles':'Average Rating'})\n",
    "   )\n",
    "actressSelections95PctAgg.shape"
   ]
  },
  {
   "cell_type": "code",
   "execution_count": 14,
   "metadata": {},
   "outputs": [
    {
     "data": {
      "text/html": [
       "<div>\n",
       "<style scoped>\n",
       "    .dataframe tbody tr th:only-of-type {\n",
       "        vertical-align: middle;\n",
       "    }\n",
       "\n",
       "    .dataframe tbody tr th {\n",
       "        vertical-align: top;\n",
       "    }\n",
       "\n",
       "    .dataframe thead th {\n",
       "        text-align: right;\n",
       "    }\n",
       "</style>\n",
       "<table border=\"1\" class=\"dataframe\">\n",
       "  <thead>\n",
       "    <tr style=\"text-align: right;\">\n",
       "      <th></th>\n",
       "      <th>primaryName</th>\n",
       "      <th>tconst</th>\n",
       "      <th>averageRating_y</th>\n",
       "    </tr>\n",
       "  </thead>\n",
       "  <tbody>\n",
       "    <tr>\n",
       "      <th>0</th>\n",
       "      <td>A.J. Cook</td>\n",
       "      <td>1</td>\n",
       "      <td>6.200000</td>\n",
       "    </tr>\n",
       "    <tr>\n",
       "      <th>1</th>\n",
       "      <td>A.J. Langer</td>\n",
       "      <td>1</td>\n",
       "      <td>6.300000</td>\n",
       "    </tr>\n",
       "    <tr>\n",
       "      <th>2</th>\n",
       "      <td>AJ Michalka</td>\n",
       "      <td>1</td>\n",
       "      <td>7.000000</td>\n",
       "    </tr>\n",
       "    <tr>\n",
       "      <th>3</th>\n",
       "      <td>Abbie Cornish</td>\n",
       "      <td>7</td>\n",
       "      <td>6.414286</td>\n",
       "    </tr>\n",
       "    <tr>\n",
       "      <th>4</th>\n",
       "      <td>Abigail Breslin</td>\n",
       "      <td>11</td>\n",
       "      <td>6.845455</td>\n",
       "    </tr>\n",
       "  </tbody>\n",
       "</table>\n",
       "</div>"
      ],
      "text/plain": [
       "       primaryName  tconst  averageRating_y\n",
       "0        A.J. Cook       1         6.200000\n",
       "1      A.J. Langer       1         6.300000\n",
       "2      AJ Michalka       1         7.000000\n",
       "3    Abbie Cornish       7         6.414286\n",
       "4  Abigail Breslin      11         6.845455"
      ]
     },
     "execution_count": 14,
     "metadata": {},
     "output_type": "execute_result"
    }
   ],
   "source": [
    "actressSelections95PctAgg.head()"
   ]
  },
  {
   "cell_type": "code",
   "execution_count": 15,
   "metadata": {},
   "outputs": [
    {
     "data": {
      "text/plain": [
       "(102, 3)"
      ]
     },
     "execution_count": 15,
     "metadata": {},
     "output_type": "execute_result"
    }
   ],
   "source": [
    "actressSelections95PctAgg = actressSelections95PctAgg[actressSelections95PctAgg.tconst > 10]\n",
    "actressSelections95PctAgg.shape"
   ]
  },
  {
   "cell_type": "code",
   "execution_count": 16,
   "metadata": {},
   "outputs": [],
   "source": [
    "actressSelections95PctAgg.sort_values('averageRating_y', ascending=False, inplace=True)"
   ]
  },
  {
   "cell_type": "markdown",
   "metadata": {},
   "source": [
    "# Top 10 Actress Ranked by Highest Movie Rating With 10 or More Films "
   ]
  },
  {
   "cell_type": "code",
   "execution_count": 17,
   "metadata": {},
   "outputs": [
    {
     "data": {
      "text/html": [
       "<div>\n",
       "<style scoped>\n",
       "    .dataframe tbody tr th:only-of-type {\n",
       "        vertical-align: middle;\n",
       "    }\n",
       "\n",
       "    .dataframe tbody tr th {\n",
       "        vertical-align: top;\n",
       "    }\n",
       "\n",
       "    .dataframe thead th {\n",
       "        text-align: right;\n",
       "    }\n",
       "</style>\n",
       "<table border=\"1\" class=\"dataframe\">\n",
       "  <thead>\n",
       "    <tr style=\"text-align: right;\">\n",
       "      <th></th>\n",
       "      <th>primaryName</th>\n",
       "      <th>tconst</th>\n",
       "      <th>averageRating_y</th>\n",
       "    </tr>\n",
       "  </thead>\n",
       "  <tbody>\n",
       "    <tr>\n",
       "      <th>858</th>\n",
       "      <td>Joan Allen</td>\n",
       "      <td>13</td>\n",
       "      <td>7.315385</td>\n",
       "    </tr>\n",
       "    <tr>\n",
       "      <th>970</th>\n",
       "      <td>Kate Winslet</td>\n",
       "      <td>19</td>\n",
       "      <td>7.210526</td>\n",
       "    </tr>\n",
       "    <tr>\n",
       "      <th>465</th>\n",
       "      <td>Dianne Wiest</td>\n",
       "      <td>13</td>\n",
       "      <td>7.161538</td>\n",
       "    </tr>\n",
       "    <tr>\n",
       "      <th>562</th>\n",
       "      <td>Emma Watson</td>\n",
       "      <td>11</td>\n",
       "      <td>7.127273</td>\n",
       "    </tr>\n",
       "    <tr>\n",
       "      <th>327</th>\n",
       "      <td>Catherine Keener</td>\n",
       "      <td>14</td>\n",
       "      <td>7.107143</td>\n",
       "    </tr>\n",
       "    <tr>\n",
       "      <th>874</th>\n",
       "      <td>Jodie Foster</td>\n",
       "      <td>16</td>\n",
       "      <td>7.081250</td>\n",
       "    </tr>\n",
       "    <tr>\n",
       "      <th>458</th>\n",
       "      <td>Diane Keaton</td>\n",
       "      <td>20</td>\n",
       "      <td>7.075000</td>\n",
       "    </tr>\n",
       "    <tr>\n",
       "      <th>612</th>\n",
       "      <td>Frances McDormand</td>\n",
       "      <td>15</td>\n",
       "      <td>7.073333</td>\n",
       "    </tr>\n",
       "    <tr>\n",
       "      <th>1636</th>\n",
       "      <td>Robin Wright</td>\n",
       "      <td>11</td>\n",
       "      <td>7.000000</td>\n",
       "    </tr>\n",
       "    <tr>\n",
       "      <th>811</th>\n",
       "      <td>Jennifer Jason Leigh</td>\n",
       "      <td>12</td>\n",
       "      <td>6.975000</td>\n",
       "    </tr>\n",
       "  </tbody>\n",
       "</table>\n",
       "</div>"
      ],
      "text/plain": [
       "               primaryName  tconst  averageRating_y\n",
       "858             Joan Allen      13         7.315385\n",
       "970           Kate Winslet      19         7.210526\n",
       "465           Dianne Wiest      13         7.161538\n",
       "562            Emma Watson      11         7.127273\n",
       "327       Catherine Keener      14         7.107143\n",
       "874           Jodie Foster      16         7.081250\n",
       "458           Diane Keaton      20         7.075000\n",
       "612      Frances McDormand      15         7.073333\n",
       "1636          Robin Wright      11         7.000000\n",
       "811   Jennifer Jason Leigh      12         6.975000"
      ]
     },
     "execution_count": 17,
     "metadata": {},
     "output_type": "execute_result"
    }
   ],
   "source": [
    "actressSelections95PctAgg.head(10)"
   ]
  },
  {
   "cell_type": "code",
   "execution_count": 18,
   "metadata": {},
   "outputs": [
    {
     "data": {
      "text/plain": [
       "(3248, 34)"
      ]
     },
     "execution_count": 18,
     "metadata": {},
     "output_type": "execute_result"
    }
   ],
   "source": [
    "directorSelections95Pct = castCrewSelections95Pct[castCrewSelections95Pct.category == 'director']\n",
    "directorSelections95Pct.shape"
   ]
  },
  {
   "cell_type": "code",
   "execution_count": 19,
   "metadata": {},
   "outputs": [
    {
     "data": {
      "text/plain": [
       "(1097, 3)"
      ]
     },
     "execution_count": 19,
     "metadata": {},
     "output_type": "execute_result"
    }
   ],
   "source": [
    "directorSelections95PctAgg = (directorSelections95Pct.groupby('primaryName')\n",
    "   .agg({'tconst':'count', 'averageRating_y': 'mean'})\n",
    "   .reset_index()\n",
    "   .rename(columns={'Movies Titles':'Average Rating'})\n",
    "   )\n",
    "directorSelections95PctAgg.shape"
   ]
  },
  {
   "cell_type": "code",
   "execution_count": 20,
   "metadata": {},
   "outputs": [
    {
     "data": {
      "text/html": [
       "<div>\n",
       "<style scoped>\n",
       "    .dataframe tbody tr th:only-of-type {\n",
       "        vertical-align: middle;\n",
       "    }\n",
       "\n",
       "    .dataframe tbody tr th {\n",
       "        vertical-align: top;\n",
       "    }\n",
       "\n",
       "    .dataframe thead th {\n",
       "        text-align: right;\n",
       "    }\n",
       "</style>\n",
       "<table border=\"1\" class=\"dataframe\">\n",
       "  <thead>\n",
       "    <tr style=\"text-align: right;\">\n",
       "      <th></th>\n",
       "      <th>primaryName</th>\n",
       "      <th>tconst</th>\n",
       "      <th>averageRating_y</th>\n",
       "    </tr>\n",
       "  </thead>\n",
       "  <tbody>\n",
       "    <tr>\n",
       "      <th>0</th>\n",
       "      <td>Aaron Blaise</td>\n",
       "      <td>1</td>\n",
       "      <td>6.80</td>\n",
       "    </tr>\n",
       "    <tr>\n",
       "      <th>1</th>\n",
       "      <td>Aaron Seltzer</td>\n",
       "      <td>5</td>\n",
       "      <td>2.62</td>\n",
       "    </tr>\n",
       "    <tr>\n",
       "      <th>2</th>\n",
       "      <td>Abdellatif Kechiche</td>\n",
       "      <td>1</td>\n",
       "      <td>7.80</td>\n",
       "    </tr>\n",
       "    <tr>\n",
       "      <th>3</th>\n",
       "      <td>Abel Ferrara</td>\n",
       "      <td>1</td>\n",
       "      <td>7.10</td>\n",
       "    </tr>\n",
       "    <tr>\n",
       "      <th>4</th>\n",
       "      <td>Adam Brooks</td>\n",
       "      <td>1</td>\n",
       "      <td>7.20</td>\n",
       "    </tr>\n",
       "  </tbody>\n",
       "</table>\n",
       "</div>"
      ],
      "text/plain": [
       "           primaryName  tconst  averageRating_y\n",
       "0         Aaron Blaise       1             6.80\n",
       "1        Aaron Seltzer       5             2.62\n",
       "2  Abdellatif Kechiche       1             7.80\n",
       "3         Abel Ferrara       1             7.10\n",
       "4          Adam Brooks       1             7.20"
      ]
     },
     "execution_count": 20,
     "metadata": {},
     "output_type": "execute_result"
    }
   ],
   "source": [
    "directorSelections95PctAgg.head()"
   ]
  },
  {
   "cell_type": "code",
   "execution_count": 21,
   "metadata": {},
   "outputs": [
    {
     "data": {
      "text/plain": [
       "(31, 3)"
      ]
     },
     "execution_count": 21,
     "metadata": {},
     "output_type": "execute_result"
    }
   ],
   "source": [
    "directorSelections95PctAgg = directorSelections95PctAgg[directorSelections95PctAgg.tconst > 10]\n",
    "directorSelections95PctAgg.shape"
   ]
  },
  {
   "cell_type": "code",
   "execution_count": 22,
   "metadata": {},
   "outputs": [],
   "source": [
    "directorSelections95PctAgg.sort_values('averageRating_y', ascending=False, inplace=True)"
   ]
  },
  {
   "cell_type": "markdown",
   "metadata": {},
   "source": [
    "# Top 10 Directors Ranked by Highest Movie Rating With 10 or More Films "
   ]
  },
  {
   "cell_type": "code",
   "execution_count": 23,
   "metadata": {},
   "outputs": [
    {
     "data": {
      "text/html": [
       "<div>\n",
       "<style scoped>\n",
       "    .dataframe tbody tr th:only-of-type {\n",
       "        vertical-align: middle;\n",
       "    }\n",
       "\n",
       "    .dataframe tbody tr th {\n",
       "        vertical-align: top;\n",
       "    }\n",
       "\n",
       "    .dataframe thead th {\n",
       "        text-align: right;\n",
       "    }\n",
       "</style>\n",
       "<table border=\"1\" class=\"dataframe\">\n",
       "  <thead>\n",
       "    <tr style=\"text-align: right;\">\n",
       "      <th></th>\n",
       "      <th>primaryName</th>\n",
       "      <th>tconst</th>\n",
       "      <th>averageRating_y</th>\n",
       "    </tr>\n",
       "  </thead>\n",
       "  <tbody>\n",
       "    <tr>\n",
       "      <th>824</th>\n",
       "      <td>Quentin Tarantino</td>\n",
       "      <td>12</td>\n",
       "      <td>7.891667</td>\n",
       "    </tr>\n",
       "    <tr>\n",
       "      <th>803</th>\n",
       "      <td>Peter Jackson</td>\n",
       "      <td>11</td>\n",
       "      <td>7.772727</td>\n",
       "    </tr>\n",
       "    <tr>\n",
       "      <th>662</th>\n",
       "      <td>Martin Scorsese</td>\n",
       "      <td>19</td>\n",
       "      <td>7.652632</td>\n",
       "    </tr>\n",
       "    <tr>\n",
       "      <th>300</th>\n",
       "      <td>Francis Ford Coppola</td>\n",
       "      <td>11</td>\n",
       "      <td>7.572727</td>\n",
       "    </tr>\n",
       "    <tr>\n",
       "      <th>973</th>\n",
       "      <td>Steven Spielberg</td>\n",
       "      <td>31</td>\n",
       "      <td>7.412903</td>\n",
       "    </tr>\n",
       "    <tr>\n",
       "      <th>474</th>\n",
       "      <td>Joel Coen</td>\n",
       "      <td>15</td>\n",
       "      <td>7.360000</td>\n",
       "    </tr>\n",
       "    <tr>\n",
       "      <th>287</th>\n",
       "      <td>Ethan Coen</td>\n",
       "      <td>16</td>\n",
       "      <td>7.356250</td>\n",
       "    </tr>\n",
       "    <tr>\n",
       "      <th>879</th>\n",
       "      <td>Robert Zemeckis</td>\n",
       "      <td>15</td>\n",
       "      <td>7.306667</td>\n",
       "    </tr>\n",
       "    <tr>\n",
       "      <th>845</th>\n",
       "      <td>Richard Linklater</td>\n",
       "      <td>13</td>\n",
       "      <td>7.300000</td>\n",
       "    </tr>\n",
       "    <tr>\n",
       "      <th>172</th>\n",
       "      <td>Clint Eastwood</td>\n",
       "      <td>11</td>\n",
       "      <td>7.227273</td>\n",
       "    </tr>\n",
       "  </tbody>\n",
       "</table>\n",
       "</div>"
      ],
      "text/plain": [
       "              primaryName  tconst  averageRating_y\n",
       "824     Quentin Tarantino      12         7.891667\n",
       "803         Peter Jackson      11         7.772727\n",
       "662       Martin Scorsese      19         7.652632\n",
       "300  Francis Ford Coppola      11         7.572727\n",
       "973      Steven Spielberg      31         7.412903\n",
       "474             Joel Coen      15         7.360000\n",
       "287            Ethan Coen      16         7.356250\n",
       "879       Robert Zemeckis      15         7.306667\n",
       "845     Richard Linklater      13         7.300000\n",
       "172        Clint Eastwood      11         7.227273"
      ]
     },
     "execution_count": 23,
     "metadata": {},
     "output_type": "execute_result"
    }
   ],
   "source": [
    "directorSelections95PctAgg.head(10)"
   ]
  },
  {
   "cell_type": "code",
   "execution_count": 24,
   "metadata": {},
   "outputs": [
    {
     "data": {
      "text/plain": [
       "(2981, 34)"
      ]
     },
     "execution_count": 24,
     "metadata": {},
     "output_type": "execute_result"
    }
   ],
   "source": [
    "writerSelections95Pct = castCrewSelections95Pct[castCrewSelections95Pct.category == 'writer']\n",
    "writerSelections95Pct.shape"
   ]
  },
  {
   "cell_type": "code",
   "execution_count": 25,
   "metadata": {},
   "outputs": [
    {
     "data": {
      "text/plain": [
       "(1344, 3)"
      ]
     },
     "execution_count": 25,
     "metadata": {},
     "output_type": "execute_result"
    }
   ],
   "source": [
    "writerSelections95PctAgg = (writerSelections95Pct.groupby('primaryName')\n",
    "   .agg({'tconst':'count', 'averageRating_y': 'mean'})\n",
    "   .reset_index()\n",
    "   .rename(columns={'Movies Titles':'Average Rating'})\n",
    "   )\n",
    "writerSelections95PctAgg.shape"
   ]
  },
  {
   "cell_type": "code",
   "execution_count": 26,
   "metadata": {},
   "outputs": [
    {
     "data": {
      "text/html": [
       "<div>\n",
       "<style scoped>\n",
       "    .dataframe tbody tr th:only-of-type {\n",
       "        vertical-align: middle;\n",
       "    }\n",
       "\n",
       "    .dataframe tbody tr th {\n",
       "        vertical-align: top;\n",
       "    }\n",
       "\n",
       "    .dataframe thead th {\n",
       "        text-align: right;\n",
       "    }\n",
       "</style>\n",
       "<table border=\"1\" class=\"dataframe\">\n",
       "  <thead>\n",
       "    <tr style=\"text-align: right;\">\n",
       "      <th></th>\n",
       "      <th>primaryName</th>\n",
       "      <th>tconst</th>\n",
       "      <th>averageRating_y</th>\n",
       "    </tr>\n",
       "  </thead>\n",
       "  <tbody>\n",
       "    <tr>\n",
       "      <th>0</th>\n",
       "      <td>Aaron Harberts</td>\n",
       "      <td>1</td>\n",
       "      <td>4.800000</td>\n",
       "    </tr>\n",
       "    <tr>\n",
       "      <th>1</th>\n",
       "      <td>Aaron McGruder</td>\n",
       "      <td>1</td>\n",
       "      <td>5.900000</td>\n",
       "    </tr>\n",
       "    <tr>\n",
       "      <th>2</th>\n",
       "      <td>Aaron Seltzer</td>\n",
       "      <td>3</td>\n",
       "      <td>5.600000</td>\n",
       "    </tr>\n",
       "    <tr>\n",
       "      <th>3</th>\n",
       "      <td>Aaron Sorkin</td>\n",
       "      <td>6</td>\n",
       "      <td>7.216667</td>\n",
       "    </tr>\n",
       "    <tr>\n",
       "      <th>4</th>\n",
       "      <td>Aaron Springer</td>\n",
       "      <td>1</td>\n",
       "      <td>7.000000</td>\n",
       "    </tr>\n",
       "  </tbody>\n",
       "</table>\n",
       "</div>"
      ],
      "text/plain": [
       "      primaryName  tconst  averageRating_y\n",
       "0  Aaron Harberts       1         4.800000\n",
       "1  Aaron McGruder       1         5.900000\n",
       "2   Aaron Seltzer       3         5.600000\n",
       "3    Aaron Sorkin       6         7.216667\n",
       "4  Aaron Springer       1         7.000000"
      ]
     },
     "execution_count": 26,
     "metadata": {},
     "output_type": "execute_result"
    }
   ],
   "source": [
    "writerSelections95PctAgg.head()"
   ]
  },
  {
   "cell_type": "code",
   "execution_count": 27,
   "metadata": {},
   "outputs": [
    {
     "data": {
      "text/plain": [
       "(22, 3)"
      ]
     },
     "execution_count": 27,
     "metadata": {},
     "output_type": "execute_result"
    }
   ],
   "source": [
    "writerSelections95PctAgg = writerSelections95PctAgg[writerSelections95PctAgg.tconst > 10]\n",
    "writerSelections95PctAgg.shape"
   ]
  },
  {
   "cell_type": "code",
   "execution_count": 28,
   "metadata": {},
   "outputs": [],
   "source": [
    "writerSelections95PctAgg.sort_values('averageRating_y', ascending=False, inplace=True)"
   ]
  },
  {
   "cell_type": "markdown",
   "metadata": {},
   "source": [
    "# Top 10 Writers Ranked by Highest Movie Rating With 10 or More Films "
   ]
  },
  {
   "cell_type": "code",
   "execution_count": 29,
   "metadata": {},
   "outputs": [
    {
     "data": {
      "text/html": [
       "<div>\n",
       "<style scoped>\n",
       "    .dataframe tbody tr th:only-of-type {\n",
       "        vertical-align: middle;\n",
       "    }\n",
       "\n",
       "    .dataframe tbody tr th {\n",
       "        vertical-align: top;\n",
       "    }\n",
       "\n",
       "    .dataframe thead th {\n",
       "        text-align: right;\n",
       "    }\n",
       "</style>\n",
       "<table border=\"1\" class=\"dataframe\">\n",
       "  <thead>\n",
       "    <tr style=\"text-align: right;\">\n",
       "      <th></th>\n",
       "      <th>primaryName</th>\n",
       "      <th>tconst</th>\n",
       "      <th>averageRating_y</th>\n",
       "    </tr>\n",
       "  </thead>\n",
       "  <tbody>\n",
       "    <tr>\n",
       "      <th>414</th>\n",
       "      <td>Fran Walsh</td>\n",
       "      <td>11</td>\n",
       "      <td>7.772727</td>\n",
       "    </tr>\n",
       "    <tr>\n",
       "      <th>445</th>\n",
       "      <td>George Lucas</td>\n",
       "      <td>12</td>\n",
       "      <td>7.591667</td>\n",
       "    </tr>\n",
       "    <tr>\n",
       "      <th>1208</th>\n",
       "      <td>Steven Zaillian</td>\n",
       "      <td>11</td>\n",
       "      <td>7.418182</td>\n",
       "    </tr>\n",
       "    <tr>\n",
       "      <th>666</th>\n",
       "      <td>John Logan</td>\n",
       "      <td>11</td>\n",
       "      <td>7.036364</td>\n",
       "    </tr>\n",
       "    <tr>\n",
       "      <th>1323</th>\n",
       "      <td>William Goldman</td>\n",
       "      <td>14</td>\n",
       "      <td>6.942857</td>\n",
       "    </tr>\n",
       "    <tr>\n",
       "      <th>1170</th>\n",
       "      <td>Stan Lee</td>\n",
       "      <td>20</td>\n",
       "      <td>6.900000</td>\n",
       "    </tr>\n",
       "    <tr>\n",
       "      <th>324</th>\n",
       "      <td>David S. Goyer</td>\n",
       "      <td>11</td>\n",
       "      <td>6.900000</td>\n",
       "    </tr>\n",
       "    <tr>\n",
       "      <th>1085</th>\n",
       "      <td>Roberto Orci</td>\n",
       "      <td>11</td>\n",
       "      <td>6.854545</td>\n",
       "    </tr>\n",
       "    <tr>\n",
       "      <th>1235</th>\n",
       "      <td>Terry Rossio</td>\n",
       "      <td>16</td>\n",
       "      <td>6.843750</td>\n",
       "    </tr>\n",
       "    <tr>\n",
       "      <th>1226</th>\n",
       "      <td>Ted Elliott</td>\n",
       "      <td>15</td>\n",
       "      <td>6.826667</td>\n",
       "    </tr>\n",
       "  </tbody>\n",
       "</table>\n",
       "</div>"
      ],
      "text/plain": [
       "          primaryName  tconst  averageRating_y\n",
       "414        Fran Walsh      11         7.772727\n",
       "445      George Lucas      12         7.591667\n",
       "1208  Steven Zaillian      11         7.418182\n",
       "666        John Logan      11         7.036364\n",
       "1323  William Goldman      14         6.942857\n",
       "1170         Stan Lee      20         6.900000\n",
       "324    David S. Goyer      11         6.900000\n",
       "1085     Roberto Orci      11         6.854545\n",
       "1235     Terry Rossio      16         6.843750\n",
       "1226      Ted Elliott      15         6.826667"
      ]
     },
     "execution_count": 29,
     "metadata": {},
     "output_type": "execute_result"
    }
   ],
   "source": [
    "writerSelections95PctAgg.head(10)"
   ]
  },
  {
   "cell_type": "code",
   "execution_count": null,
   "metadata": {},
   "outputs": [],
   "source": []
  }
 ],
 "metadata": {
  "kernelspec": {
   "display_name": "Python 3",
   "language": "python",
   "name": "python3"
  },
  "language_info": {
   "codemirror_mode": {
    "name": "ipython",
    "version": 3
   },
   "file_extension": ".py",
   "mimetype": "text/x-python",
   "name": "python",
   "nbconvert_exporter": "python",
   "pygments_lexer": "ipython3",
   "version": "3.6.4"
  }
 },
 "nbformat": 4,
 "nbformat_minor": 2
}
