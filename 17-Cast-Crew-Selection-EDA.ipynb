{
 "cells": [
  {
   "cell_type": "markdown",
   "metadata": {},
   "source": [
    "# Cast & Crew Selection Exploratory Data Analysis (EDA)"
   ]
  },
  {
   "cell_type": "code",
   "execution_count": 73,
   "metadata": {},
   "outputs": [],
   "source": [
    "import pandas as pd"
   ]
  },
  {
   "cell_type": "code",
   "execution_count": 74,
   "metadata": {},
   "outputs": [
    {
     "data": {
      "text/plain": [
       "(33298, 23)"
      ]
     },
     "metadata": {},
     "output_type": "display_data"
    },
    {
     "data": {
      "text/html": [
       "<div>\n",
       "<style scoped>\n",
       "    .dataframe tbody tr th:only-of-type {\n",
       "        vertical-align: middle;\n",
       "    }\n",
       "\n",
       "    .dataframe tbody tr th {\n",
       "        vertical-align: top;\n",
       "    }\n",
       "\n",
       "    .dataframe thead th {\n",
       "        text-align: right;\n",
       "    }\n",
       "</style>\n",
       "<table border=\"1\" class=\"dataframe\">\n",
       "  <thead>\n",
       "    <tr style=\"text-align: right;\">\n",
       "      <th></th>\n",
       "      <th>tconst</th>\n",
       "      <th>ordering</th>\n",
       "      <th>nconst</th>\n",
       "      <th>category</th>\n",
       "      <th>job</th>\n",
       "      <th>characters</th>\n",
       "      <th>primaryName</th>\n",
       "      <th>birthYear</th>\n",
       "      <th>deathYear</th>\n",
       "      <th>primaryProfession</th>\n",
       "      <th>...</th>\n",
       "      <th>primaryTitle</th>\n",
       "      <th>originalTitle</th>\n",
       "      <th>isAdult</th>\n",
       "      <th>startYear</th>\n",
       "      <th>endYear</th>\n",
       "      <th>runtimeMinutes</th>\n",
       "      <th>genres</th>\n",
       "      <th>titleId</th>\n",
       "      <th>averageRating</th>\n",
       "      <th>numVotes</th>\n",
       "    </tr>\n",
       "  </thead>\n",
       "  <tbody>\n",
       "    <tr>\n",
       "      <th>0</th>\n",
       "      <td>tt0026174</td>\n",
       "      <td>2</td>\n",
       "      <td>nm0000014</td>\n",
       "      <td>actress</td>\n",
       "      <td>\\N</td>\n",
       "      <td>[\"Arabella Bishop\"]</td>\n",
       "      <td>Olivia de Havilland</td>\n",
       "      <td>1916</td>\n",
       "      <td>\\N</td>\n",
       "      <td>actress,soundtrack</td>\n",
       "      <td>...</td>\n",
       "      <td>Captain Blood</td>\n",
       "      <td>Captain Blood</td>\n",
       "      <td>0</td>\n",
       "      <td>1935</td>\n",
       "      <td>\\N</td>\n",
       "      <td>119</td>\n",
       "      <td>Action,Adventure</td>\n",
       "      <td>tt0026174</td>\n",
       "      <td>7.8</td>\n",
       "      <td>11188</td>\n",
       "    </tr>\n",
       "    <tr>\n",
       "      <th>1</th>\n",
       "      <td>tt0029843</td>\n",
       "      <td>2</td>\n",
       "      <td>nm0000014</td>\n",
       "      <td>actress</td>\n",
       "      <td>\\N</td>\n",
       "      <td>[\"Maid Marian\"]</td>\n",
       "      <td>Olivia de Havilland</td>\n",
       "      <td>1916</td>\n",
       "      <td>\\N</td>\n",
       "      <td>actress,soundtrack</td>\n",
       "      <td>...</td>\n",
       "      <td>The Adventures of Robin Hood</td>\n",
       "      <td>The Adventures of Robin Hood</td>\n",
       "      <td>0</td>\n",
       "      <td>1938</td>\n",
       "      <td>\\N</td>\n",
       "      <td>102</td>\n",
       "      <td>Action,Adventure,Romance</td>\n",
       "      <td>tt0029843</td>\n",
       "      <td>8.0</td>\n",
       "      <td>42316</td>\n",
       "    </tr>\n",
       "    <tr>\n",
       "      <th>2</th>\n",
       "      <td>tt0034277</td>\n",
       "      <td>2</td>\n",
       "      <td>nm0000014</td>\n",
       "      <td>actress</td>\n",
       "      <td>\\N</td>\n",
       "      <td>[\"Elizabeth Bacon\"]</td>\n",
       "      <td>Olivia de Havilland</td>\n",
       "      <td>1916</td>\n",
       "      <td>\\N</td>\n",
       "      <td>actress,soundtrack</td>\n",
       "      <td>...</td>\n",
       "      <td>They Died with Their Boots On</td>\n",
       "      <td>They Died with Their Boots On</td>\n",
       "      <td>0</td>\n",
       "      <td>1941</td>\n",
       "      <td>\\N</td>\n",
       "      <td>140</td>\n",
       "      <td>Biography,Drama,Romance</td>\n",
       "      <td>tt0034277</td>\n",
       "      <td>7.3</td>\n",
       "      <td>5062</td>\n",
       "    </tr>\n",
       "    <tr>\n",
       "      <th>3</th>\n",
       "      <td>tt0040806</td>\n",
       "      <td>1</td>\n",
       "      <td>nm0000014</td>\n",
       "      <td>actress</td>\n",
       "      <td>\\N</td>\n",
       "      <td>[\"Virginia Stuart Cunningham\"]</td>\n",
       "      <td>Olivia de Havilland</td>\n",
       "      <td>1916</td>\n",
       "      <td>\\N</td>\n",
       "      <td>actress,soundtrack</td>\n",
       "      <td>...</td>\n",
       "      <td>The Snake Pit</td>\n",
       "      <td>The Snake Pit</td>\n",
       "      <td>0</td>\n",
       "      <td>1948</td>\n",
       "      <td>\\N</td>\n",
       "      <td>108</td>\n",
       "      <td>Drama,Mystery</td>\n",
       "      <td>tt0040806</td>\n",
       "      <td>7.6</td>\n",
       "      <td>5696</td>\n",
       "    </tr>\n",
       "    <tr>\n",
       "      <th>4</th>\n",
       "      <td>tt0041452</td>\n",
       "      <td>1</td>\n",
       "      <td>nm0000014</td>\n",
       "      <td>actress</td>\n",
       "      <td>\\N</td>\n",
       "      <td>[\"Catherine Sloper\"]</td>\n",
       "      <td>Olivia de Havilland</td>\n",
       "      <td>1916</td>\n",
       "      <td>\\N</td>\n",
       "      <td>actress,soundtrack</td>\n",
       "      <td>...</td>\n",
       "      <td>The Heiress</td>\n",
       "      <td>The Heiress</td>\n",
       "      <td>0</td>\n",
       "      <td>1949</td>\n",
       "      <td>\\N</td>\n",
       "      <td>115</td>\n",
       "      <td>Drama,Romance</td>\n",
       "      <td>tt0041452</td>\n",
       "      <td>8.2</td>\n",
       "      <td>11194</td>\n",
       "    </tr>\n",
       "  </tbody>\n",
       "</table>\n",
       "<p>5 rows × 23 columns</p>\n",
       "</div>"
      ],
      "text/plain": [
       "      tconst  ordering     nconst category job  \\\n",
       "0  tt0026174         2  nm0000014  actress  \\N   \n",
       "1  tt0029843         2  nm0000014  actress  \\N   \n",
       "2  tt0034277         2  nm0000014  actress  \\N   \n",
       "3  tt0040806         1  nm0000014  actress  \\N   \n",
       "4  tt0041452         1  nm0000014  actress  \\N   \n",
       "\n",
       "                       characters          primaryName  birthYear deathYear  \\\n",
       "0             [\"Arabella Bishop\"]  Olivia de Havilland       1916        \\N   \n",
       "1                 [\"Maid Marian\"]  Olivia de Havilland       1916        \\N   \n",
       "2             [\"Elizabeth Bacon\"]  Olivia de Havilland       1916        \\N   \n",
       "3  [\"Virginia Stuart Cunningham\"]  Olivia de Havilland       1916        \\N   \n",
       "4            [\"Catherine Sloper\"]  Olivia de Havilland       1916        \\N   \n",
       "\n",
       "    primaryProfession   ...                      primaryTitle  \\\n",
       "0  actress,soundtrack   ...                     Captain Blood   \n",
       "1  actress,soundtrack   ...      The Adventures of Robin Hood   \n",
       "2  actress,soundtrack   ...     They Died with Their Boots On   \n",
       "3  actress,soundtrack   ...                     The Snake Pit   \n",
       "4  actress,soundtrack   ...                       The Heiress   \n",
       "\n",
       "                   originalTitle isAdult startYear endYear  runtimeMinutes  \\\n",
       "0                  Captain Blood       0      1935      \\N             119   \n",
       "1   The Adventures of Robin Hood       0      1938      \\N             102   \n",
       "2  They Died with Their Boots On       0      1941      \\N             140   \n",
       "3                  The Snake Pit       0      1948      \\N             108   \n",
       "4                    The Heiress       0      1949      \\N             115   \n",
       "\n",
       "                     genres    titleId  averageRating numVotes  \n",
       "0          Action,Adventure  tt0026174            7.8    11188  \n",
       "1  Action,Adventure,Romance  tt0029843            8.0    42316  \n",
       "2   Biography,Drama,Romance  tt0034277            7.3     5062  \n",
       "3             Drama,Mystery  tt0040806            7.6     5696  \n",
       "4             Drama,Romance  tt0041452            8.2    11194  \n",
       "\n",
       "[5 rows x 23 columns]"
      ]
     },
     "execution_count": 74,
     "metadata": {},
     "output_type": "execute_result"
    }
   ],
   "source": [
    "castCrewSelections = pd.read_pickle('v1_castCrewSelections.pkl')\n",
    "display(castCrewSelections.shape)\n",
    "castCrewSelections.head()"
   ]
  },
  {
   "cell_type": "code",
   "execution_count": 75,
   "metadata": {},
   "outputs": [],
   "source": [
    "#movieSelections = pd.read_pickle('v1_movieSelections5kVotes.pkl')\n",
    "#movieSelections.shape"
   ]
  },
  {
   "cell_type": "code",
   "execution_count": 76,
   "metadata": {},
   "outputs": [],
   "source": [
    "#castCrewSelections = castCrewSelectionsIn.merge(movieSelections, left_on='tconst', right_on='tconst', how='inner')\n",
    "\n",
    "# display column & row information\n",
    "#display(castCrewSelections.shape)\n",
    "\n",
    "# display top 5 rows\n",
    "#castCrewSelections.head()"
   ]
  },
  {
   "cell_type": "code",
   "execution_count": 77,
   "metadata": {},
   "outputs": [
    {
     "data": {
      "text/plain": [
       "(15009, 23)"
      ]
     },
     "execution_count": 77,
     "metadata": {},
     "output_type": "execute_result"
    }
   ],
   "source": [
    "actorSelections = castCrewSelections[castCrewSelections.category == 'actor']\n",
    "actorSelections.shape"
   ]
  },
  {
   "cell_type": "code",
   "execution_count": 78,
   "metadata": {},
   "outputs": [
    {
     "data": {
      "text/plain": [
       "(4273, 3)"
      ]
     },
     "execution_count": 78,
     "metadata": {},
     "output_type": "execute_result"
    }
   ],
   "source": [
    "actorSelectionsAgg = (actorSelections.groupby('primaryName')\n",
    "   .agg({'tconst':'count', 'numVotes': 'sum'})\n",
    "   .reset_index()\n",
    "   .rename(columns={'Movies Titles':'Average Rating'})\n",
    "   )\n",
    "actorSelectionsAgg.shape"
   ]
  },
  {
   "cell_type": "code",
   "execution_count": 79,
   "metadata": {},
   "outputs": [
    {
     "data": {
      "text/html": [
       "<div>\n",
       "<style scoped>\n",
       "    .dataframe tbody tr th:only-of-type {\n",
       "        vertical-align: middle;\n",
       "    }\n",
       "\n",
       "    .dataframe tbody tr th {\n",
       "        vertical-align: top;\n",
       "    }\n",
       "\n",
       "    .dataframe thead th {\n",
       "        text-align: right;\n",
       "    }\n",
       "</style>\n",
       "<table border=\"1\" class=\"dataframe\">\n",
       "  <thead>\n",
       "    <tr style=\"text-align: right;\">\n",
       "      <th></th>\n",
       "      <th>primaryName</th>\n",
       "      <th>tconst</th>\n",
       "      <th>numVotes</th>\n",
       "    </tr>\n",
       "  </thead>\n",
       "  <tbody>\n",
       "    <tr>\n",
       "      <th>0</th>\n",
       "      <td>'Weird Al' Yankovic</td>\n",
       "      <td>1</td>\n",
       "      <td>23040</td>\n",
       "    </tr>\n",
       "    <tr>\n",
       "      <th>1</th>\n",
       "      <td>50 Cent</td>\n",
       "      <td>7</td>\n",
       "      <td>402132</td>\n",
       "    </tr>\n",
       "    <tr>\n",
       "      <th>2</th>\n",
       "      <td>A. Michael Baldwin</td>\n",
       "      <td>3</td>\n",
       "      <td>39159</td>\n",
       "    </tr>\n",
       "    <tr>\n",
       "      <th>3</th>\n",
       "      <td>AJ Bowen</td>\n",
       "      <td>3</td>\n",
       "      <td>97993</td>\n",
       "    </tr>\n",
       "    <tr>\n",
       "      <th>4</th>\n",
       "      <td>Aamir Khan</td>\n",
       "      <td>5</td>\n",
       "      <td>208649</td>\n",
       "    </tr>\n",
       "  </tbody>\n",
       "</table>\n",
       "</div>"
      ],
      "text/plain": [
       "           primaryName  tconst  numVotes\n",
       "0  'Weird Al' Yankovic       1     23040\n",
       "1              50 Cent       7    402132\n",
       "2   A. Michael Baldwin       3     39159\n",
       "3             AJ Bowen       3     97993\n",
       "4           Aamir Khan       5    208649"
      ]
     },
     "execution_count": 79,
     "metadata": {},
     "output_type": "execute_result"
    }
   ],
   "source": [
    "actorSelectionsAgg.head()"
   ]
  },
  {
   "cell_type": "code",
   "execution_count": 80,
   "metadata": {},
   "outputs": [
    {
     "data": {
      "text/plain": [
       "(57, 3)"
      ]
     },
     "execution_count": 80,
     "metadata": {},
     "output_type": "execute_result"
    }
   ],
   "source": [
    "actorSelectionsAgg = actorSelectionsAgg[actorSelectionsAgg.tconst >= 30]\n",
    "actorSelectionsAgg.shape"
   ]
  },
  {
   "cell_type": "code",
   "execution_count": 81,
   "metadata": {},
   "outputs": [],
   "source": [
    "actorSelectionsAgg.sort_values('numVotes', ascending=False, inplace=True)"
   ]
  },
  {
   "cell_type": "markdown",
   "metadata": {},
   "source": [
    "# Top 10 Actors Ranked by Highest Movie Rating With 10 or More Films "
   ]
  },
  {
   "cell_type": "code",
   "execution_count": 82,
   "metadata": {},
   "outputs": [
    {
     "data": {
      "text/html": [
       "<div>\n",
       "<style scoped>\n",
       "    .dataframe tbody tr th:only-of-type {\n",
       "        vertical-align: middle;\n",
       "    }\n",
       "\n",
       "    .dataframe tbody tr th {\n",
       "        vertical-align: top;\n",
       "    }\n",
       "\n",
       "    .dataframe thead th {\n",
       "        text-align: right;\n",
       "    }\n",
       "</style>\n",
       "<table border=\"1\" class=\"dataframe\">\n",
       "  <thead>\n",
       "    <tr style=\"text-align: right;\">\n",
       "      <th></th>\n",
       "      <th>primaryName</th>\n",
       "      <th>tconst</th>\n",
       "      <th>numVotes</th>\n",
       "    </tr>\n",
       "  </thead>\n",
       "  <tbody>\n",
       "    <tr>\n",
       "      <th>431</th>\n",
       "      <td>Brad Pitt</td>\n",
       "      <td>34</td>\n",
       "      <td>11683749</td>\n",
       "    </tr>\n",
       "    <tr>\n",
       "      <th>3944</th>\n",
       "      <td>Tom Hanks</td>\n",
       "      <td>45</td>\n",
       "      <td>10997355</td>\n",
       "    </tr>\n",
       "    <tr>\n",
       "      <th>505</th>\n",
       "      <td>Bruce Willis</td>\n",
       "      <td>59</td>\n",
       "      <td>9663774</td>\n",
       "    </tr>\n",
       "    <tr>\n",
       "      <th>3361</th>\n",
       "      <td>Robert De Niro</td>\n",
       "      <td>67</td>\n",
       "      <td>8928248</td>\n",
       "    </tr>\n",
       "    <tr>\n",
       "      <th>2633</th>\n",
       "      <td>Matt Damon</td>\n",
       "      <td>39</td>\n",
       "      <td>8835679</td>\n",
       "    </tr>\n",
       "    <tr>\n",
       "      <th>3524</th>\n",
       "      <td>Samuel L. Jackson</td>\n",
       "      <td>57</td>\n",
       "      <td>8424287</td>\n",
       "    </tr>\n",
       "    <tr>\n",
       "      <th>2903</th>\n",
       "      <td>Morgan Freeman</td>\n",
       "      <td>44</td>\n",
       "      <td>8195573</td>\n",
       "    </tr>\n",
       "    <tr>\n",
       "      <th>3363</th>\n",
       "      <td>Robert Downey Jr.</td>\n",
       "      <td>38</td>\n",
       "      <td>8066216</td>\n",
       "    </tr>\n",
       "    <tr>\n",
       "      <th>1485</th>\n",
       "      <td>Harrison Ford</td>\n",
       "      <td>36</td>\n",
       "      <td>7838569</td>\n",
       "    </tr>\n",
       "    <tr>\n",
       "      <th>3938</th>\n",
       "      <td>Tom Cruise</td>\n",
       "      <td>36</td>\n",
       "      <td>7791741</td>\n",
       "    </tr>\n",
       "  </tbody>\n",
       "</table>\n",
       "</div>"
      ],
      "text/plain": [
       "            primaryName  tconst  numVotes\n",
       "431           Brad Pitt      34  11683749\n",
       "3944          Tom Hanks      45  10997355\n",
       "505        Bruce Willis      59   9663774\n",
       "3361     Robert De Niro      67   8928248\n",
       "2633         Matt Damon      39   8835679\n",
       "3524  Samuel L. Jackson      57   8424287\n",
       "2903     Morgan Freeman      44   8195573\n",
       "3363  Robert Downey Jr.      38   8066216\n",
       "1485      Harrison Ford      36   7838569\n",
       "3938         Tom Cruise      36   7791741"
      ]
     },
     "execution_count": 82,
     "metadata": {},
     "output_type": "execute_result"
    }
   ],
   "source": [
    "actorSelectionsAgg.head(10)"
   ]
  },
  {
   "cell_type": "code",
   "execution_count": 83,
   "metadata": {},
   "outputs": [
    {
     "data": {
      "text/plain": [
       "(9155, 23)"
      ]
     },
     "execution_count": 83,
     "metadata": {},
     "output_type": "execute_result"
    }
   ],
   "source": [
    "actressSelections = castCrewSelections[castCrewSelections.category == 'actress']\n",
    "actressSelections.shape"
   ]
  },
  {
   "cell_type": "code",
   "execution_count": 84,
   "metadata": {},
   "outputs": [
    {
     "data": {
      "text/plain": [
       "(3124, 3)"
      ]
     },
     "execution_count": 84,
     "metadata": {},
     "output_type": "execute_result"
    }
   ],
   "source": [
    "actressSelectionsAgg = (actressSelections.groupby('primaryName')\n",
    "   .agg({'tconst':'count', 'numVotes': 'sum'})\n",
    "   .reset_index()\n",
    "   .rename(columns={'Movies Titles':'Average Rating'})\n",
    "   )\n",
    "actressSelectionsAgg.shape"
   ]
  },
  {
   "cell_type": "code",
   "execution_count": 85,
   "metadata": {},
   "outputs": [
    {
     "data": {
      "text/html": [
       "<div>\n",
       "<style scoped>\n",
       "    .dataframe tbody tr th:only-of-type {\n",
       "        vertical-align: middle;\n",
       "    }\n",
       "\n",
       "    .dataframe tbody tr th {\n",
       "        vertical-align: top;\n",
       "    }\n",
       "\n",
       "    .dataframe thead th {\n",
       "        text-align: right;\n",
       "    }\n",
       "</style>\n",
       "<table border=\"1\" class=\"dataframe\">\n",
       "  <thead>\n",
       "    <tr style=\"text-align: right;\">\n",
       "      <th></th>\n",
       "      <th>primaryName</th>\n",
       "      <th>tconst</th>\n",
       "      <th>numVotes</th>\n",
       "    </tr>\n",
       "  </thead>\n",
       "  <tbody>\n",
       "    <tr>\n",
       "      <th>0</th>\n",
       "      <td>A.J. Cook</td>\n",
       "      <td>3</td>\n",
       "      <td>156552</td>\n",
       "    </tr>\n",
       "    <tr>\n",
       "      <th>1</th>\n",
       "      <td>A.J. Langer</td>\n",
       "      <td>1</td>\n",
       "      <td>26886</td>\n",
       "    </tr>\n",
       "    <tr>\n",
       "      <th>2</th>\n",
       "      <td>AJ Michalka</td>\n",
       "      <td>1</td>\n",
       "      <td>311399</td>\n",
       "    </tr>\n",
       "    <tr>\n",
       "      <th>3</th>\n",
       "      <td>Aasha Davis</td>\n",
       "      <td>1</td>\n",
       "      <td>5127</td>\n",
       "    </tr>\n",
       "    <tr>\n",
       "      <th>4</th>\n",
       "      <td>Abbie Cornish</td>\n",
       "      <td>7</td>\n",
       "      <td>1088936</td>\n",
       "    </tr>\n",
       "  </tbody>\n",
       "</table>\n",
       "</div>"
      ],
      "text/plain": [
       "     primaryName  tconst  numVotes\n",
       "0      A.J. Cook       3    156552\n",
       "1    A.J. Langer       1     26886\n",
       "2    AJ Michalka       1    311399\n",
       "3    Aasha Davis       1      5127\n",
       "4  Abbie Cornish       7   1088936"
      ]
     },
     "execution_count": 85,
     "metadata": {},
     "output_type": "execute_result"
    }
   ],
   "source": [
    "actressSelectionsAgg.head()"
   ]
  },
  {
   "cell_type": "code",
   "execution_count": 86,
   "metadata": {},
   "outputs": [
    {
     "data": {
      "text/plain": [
       "(8, 3)"
      ]
     },
     "execution_count": 86,
     "metadata": {},
     "output_type": "execute_result"
    }
   ],
   "source": [
    "actressSelectionsAgg = actressSelectionsAgg[actressSelectionsAgg.tconst >= 30]\n",
    "actressSelectionsAgg.shape"
   ]
  },
  {
   "cell_type": "code",
   "execution_count": 87,
   "metadata": {},
   "outputs": [],
   "source": [
    "actressSelectionsAgg.sort_values('numVotes', ascending=False, inplace=True)"
   ]
  },
  {
   "cell_type": "markdown",
   "metadata": {},
   "source": [
    "# Top 10 Actress Ranked by Highest Movie Rating With 10 or More Films "
   ]
  },
  {
   "cell_type": "code",
   "execution_count": 88,
   "metadata": {},
   "outputs": [
    {
     "data": {
      "text/html": [
       "<div>\n",
       "<style scoped>\n",
       "    .dataframe tbody tr th:only-of-type {\n",
       "        vertical-align: middle;\n",
       "    }\n",
       "\n",
       "    .dataframe tbody tr th {\n",
       "        vertical-align: top;\n",
       "    }\n",
       "\n",
       "    .dataframe thead th {\n",
       "        text-align: right;\n",
       "    }\n",
       "</style>\n",
       "<table border=\"1\" class=\"dataframe\">\n",
       "  <thead>\n",
       "    <tr style=\"text-align: right;\">\n",
       "      <th></th>\n",
       "      <th>primaryName</th>\n",
       "      <th>tconst</th>\n",
       "      <th>numVotes</th>\n",
       "    </tr>\n",
       "  </thead>\n",
       "  <tbody>\n",
       "    <tr>\n",
       "      <th>444</th>\n",
       "      <td>Cameron Diaz</td>\n",
       "      <td>32</td>\n",
       "      <td>4712966</td>\n",
       "    </tr>\n",
       "    <tr>\n",
       "      <th>1437</th>\n",
       "      <td>Julianne Moore</td>\n",
       "      <td>39</td>\n",
       "      <td>4556901</td>\n",
       "    </tr>\n",
       "    <tr>\n",
       "      <th>541</th>\n",
       "      <td>Charlize Theron</td>\n",
       "      <td>33</td>\n",
       "      <td>4024444</td>\n",
       "    </tr>\n",
       "    <tr>\n",
       "      <th>1428</th>\n",
       "      <td>Julia Roberts</td>\n",
       "      <td>39</td>\n",
       "      <td>3336307</td>\n",
       "    </tr>\n",
       "    <tr>\n",
       "      <th>2648</th>\n",
       "      <td>Sandra Bullock</td>\n",
       "      <td>33</td>\n",
       "      <td>3048205</td>\n",
       "    </tr>\n",
       "    <tr>\n",
       "      <th>2162</th>\n",
       "      <td>Michelle Pfeiffer</td>\n",
       "      <td>34</td>\n",
       "      <td>2498861</td>\n",
       "    </tr>\n",
       "    <tr>\n",
       "      <th>2139</th>\n",
       "      <td>Meryl Streep</td>\n",
       "      <td>36</td>\n",
       "      <td>2449813</td>\n",
       "    </tr>\n",
       "    <tr>\n",
       "      <th>2843</th>\n",
       "      <td>Susan Sarandon</td>\n",
       "      <td>36</td>\n",
       "      <td>1402582</td>\n",
       "    </tr>\n",
       "  </tbody>\n",
       "</table>\n",
       "</div>"
      ],
      "text/plain": [
       "            primaryName  tconst  numVotes\n",
       "444        Cameron Diaz      32   4712966\n",
       "1437     Julianne Moore      39   4556901\n",
       "541     Charlize Theron      33   4024444\n",
       "1428      Julia Roberts      39   3336307\n",
       "2648     Sandra Bullock      33   3048205\n",
       "2162  Michelle Pfeiffer      34   2498861\n",
       "2139       Meryl Streep      36   2449813\n",
       "2843     Susan Sarandon      36   1402582"
      ]
     },
     "execution_count": 88,
     "metadata": {},
     "output_type": "execute_result"
    }
   ],
   "source": [
    "actressSelectionsAgg.head(10)"
   ]
  },
  {
   "cell_type": "code",
   "execution_count": 89,
   "metadata": {},
   "outputs": [
    {
     "data": {
      "text/plain": [
       "(4907, 23)"
      ]
     },
     "execution_count": 89,
     "metadata": {},
     "output_type": "execute_result"
    }
   ],
   "source": [
    "directorSelections = castCrewSelections[castCrewSelections.category == 'director']\n",
    "directorSelections.shape"
   ]
  },
  {
   "cell_type": "code",
   "execution_count": 90,
   "metadata": {},
   "outputs": [
    {
     "data": {
      "text/plain": [
       "(1651, 3)"
      ]
     },
     "execution_count": 90,
     "metadata": {},
     "output_type": "execute_result"
    }
   ],
   "source": [
    "directorSelectionsAgg = (directorSelections.groupby('primaryName')\n",
    "   .agg({'tconst':'count', 'numVotes': 'sum'})\n",
    "   .reset_index()\n",
    "   .rename(columns={'Movies Titles':'Average Rating'})\n",
    "   )\n",
    "directorSelectionsAgg.shape"
   ]
  },
  {
   "cell_type": "code",
   "execution_count": 91,
   "metadata": {},
   "outputs": [
    {
     "data": {
      "text/html": [
       "<div>\n",
       "<style scoped>\n",
       "    .dataframe tbody tr th:only-of-type {\n",
       "        vertical-align: middle;\n",
       "    }\n",
       "\n",
       "    .dataframe tbody tr th {\n",
       "        vertical-align: top;\n",
       "    }\n",
       "\n",
       "    .dataframe thead th {\n",
       "        text-align: right;\n",
       "    }\n",
       "</style>\n",
       "<table border=\"1\" class=\"dataframe\">\n",
       "  <thead>\n",
       "    <tr style=\"text-align: right;\">\n",
       "      <th></th>\n",
       "      <th>primaryName</th>\n",
       "      <th>tconst</th>\n",
       "      <th>numVotes</th>\n",
       "    </tr>\n",
       "  </thead>\n",
       "  <tbody>\n",
       "    <tr>\n",
       "      <th>0</th>\n",
       "      <td>Aaron Blaise</td>\n",
       "      <td>1</td>\n",
       "      <td>81594</td>\n",
       "    </tr>\n",
       "    <tr>\n",
       "      <th>1</th>\n",
       "      <td>Aaron Harvey</td>\n",
       "      <td>1</td>\n",
       "      <td>15612</td>\n",
       "    </tr>\n",
       "    <tr>\n",
       "      <th>2</th>\n",
       "      <td>Aaron Norris</td>\n",
       "      <td>2</td>\n",
       "      <td>12883</td>\n",
       "    </tr>\n",
       "    <tr>\n",
       "      <th>3</th>\n",
       "      <td>Aaron Seltzer</td>\n",
       "      <td>7</td>\n",
       "      <td>390062</td>\n",
       "    </tr>\n",
       "    <tr>\n",
       "      <th>4</th>\n",
       "      <td>Abdellatif Kechiche</td>\n",
       "      <td>2</td>\n",
       "      <td>121715</td>\n",
       "    </tr>\n",
       "  </tbody>\n",
       "</table>\n",
       "</div>"
      ],
      "text/plain": [
       "           primaryName  tconst  numVotes\n",
       "0         Aaron Blaise       1     81594\n",
       "1         Aaron Harvey       1     15612\n",
       "2         Aaron Norris       2     12883\n",
       "3        Aaron Seltzer       7    390062\n",
       "4  Abdellatif Kechiche       2    121715"
      ]
     },
     "execution_count": 91,
     "metadata": {},
     "output_type": "execute_result"
    }
   ],
   "source": [
    "directorSelectionsAgg.head()"
   ]
  },
  {
   "cell_type": "code",
   "execution_count": 92,
   "metadata": {},
   "outputs": [
    {
     "data": {
      "text/plain": [
       "(74, 3)"
      ]
     },
     "execution_count": 92,
     "metadata": {},
     "output_type": "execute_result"
    }
   ],
   "source": [
    "directorSelectionsAgg = directorSelectionsAgg[directorSelectionsAgg.tconst >= 10]\n",
    "directorSelectionsAgg.shape"
   ]
  },
  {
   "cell_type": "code",
   "execution_count": 93,
   "metadata": {},
   "outputs": [],
   "source": [
    "directorSelectionsAgg.sort_values('numVotes', ascending=False, inplace=True)"
   ]
  },
  {
   "cell_type": "markdown",
   "metadata": {},
   "source": [
    "# Top 10 Directors Ranked by Highest Movie Rating With 10 or More Films "
   ]
  },
  {
   "cell_type": "code",
   "execution_count": 94,
   "metadata": {},
   "outputs": [
    {
     "data": {
      "text/html": [
       "<div>\n",
       "<style scoped>\n",
       "    .dataframe tbody tr th:only-of-type {\n",
       "        vertical-align: middle;\n",
       "    }\n",
       "\n",
       "    .dataframe tbody tr th {\n",
       "        vertical-align: top;\n",
       "    }\n",
       "\n",
       "    .dataframe thead th {\n",
       "        text-align: right;\n",
       "    }\n",
       "</style>\n",
       "<table border=\"1\" class=\"dataframe\">\n",
       "  <thead>\n",
       "    <tr style=\"text-align: right;\">\n",
       "      <th></th>\n",
       "      <th>primaryName</th>\n",
       "      <th>tconst</th>\n",
       "      <th>numVotes</th>\n",
       "    </tr>\n",
       "  </thead>\n",
       "  <tbody>\n",
       "    <tr>\n",
       "      <th>1471</th>\n",
       "      <td>Steven Spielberg</td>\n",
       "      <td>32</td>\n",
       "      <td>10128214</td>\n",
       "    </tr>\n",
       "    <tr>\n",
       "      <th>1253</th>\n",
       "      <td>Quentin Tarantino</td>\n",
       "      <td>12</td>\n",
       "      <td>7797371</td>\n",
       "    </tr>\n",
       "    <tr>\n",
       "      <th>1227</th>\n",
       "      <td>Peter Jackson</td>\n",
       "      <td>11</td>\n",
       "      <td>6463701</td>\n",
       "    </tr>\n",
       "    <tr>\n",
       "      <th>332</th>\n",
       "      <td>David Fincher</td>\n",
       "      <td>10</td>\n",
       "      <td>6059787</td>\n",
       "    </tr>\n",
       "    <tr>\n",
       "      <th>1300</th>\n",
       "      <td>Ridley Scott</td>\n",
       "      <td>23</td>\n",
       "      <td>6041120</td>\n",
       "    </tr>\n",
       "    <tr>\n",
       "      <th>1019</th>\n",
       "      <td>Martin Scorsese</td>\n",
       "      <td>26</td>\n",
       "      <td>6008580</td>\n",
       "    </tr>\n",
       "    <tr>\n",
       "      <th>1334</th>\n",
       "      <td>Robert Zemeckis</td>\n",
       "      <td>16</td>\n",
       "      <td>4996682</td>\n",
       "    </tr>\n",
       "    <tr>\n",
       "      <th>477</th>\n",
       "      <td>Francis Ford Coppola</td>\n",
       "      <td>18</td>\n",
       "      <td>3669139</td>\n",
       "    </tr>\n",
       "    <tr>\n",
       "      <th>1520</th>\n",
       "      <td>Tim Burton</td>\n",
       "      <td>15</td>\n",
       "      <td>3520491</td>\n",
       "    </tr>\n",
       "    <tr>\n",
       "      <th>1055</th>\n",
       "      <td>Michael Bay</td>\n",
       "      <td>13</td>\n",
       "      <td>3507345</td>\n",
       "    </tr>\n",
       "  </tbody>\n",
       "</table>\n",
       "</div>"
      ],
      "text/plain": [
       "               primaryName  tconst  numVotes\n",
       "1471      Steven Spielberg      32  10128214\n",
       "1253     Quentin Tarantino      12   7797371\n",
       "1227         Peter Jackson      11   6463701\n",
       "332          David Fincher      10   6059787\n",
       "1300          Ridley Scott      23   6041120\n",
       "1019       Martin Scorsese      26   6008580\n",
       "1334       Robert Zemeckis      16   4996682\n",
       "477   Francis Ford Coppola      18   3669139\n",
       "1520            Tim Burton      15   3520491\n",
       "1055           Michael Bay      13   3507345"
      ]
     },
     "execution_count": 94,
     "metadata": {},
     "output_type": "execute_result"
    }
   ],
   "source": [
    "directorSelectionsAgg.head(10)"
   ]
  },
  {
   "cell_type": "code",
   "execution_count": 95,
   "metadata": {},
   "outputs": [
    {
     "data": {
      "text/plain": [
       "(4227, 23)"
      ]
     },
     "execution_count": 95,
     "metadata": {},
     "output_type": "execute_result"
    }
   ],
   "source": [
    "writerSelections = castCrewSelections[castCrewSelections.category == 'writer']\n",
    "writerSelections.shape"
   ]
  },
  {
   "cell_type": "code",
   "execution_count": 96,
   "metadata": {},
   "outputs": [
    {
     "data": {
      "text/plain": [
       "(1933, 3)"
      ]
     },
     "execution_count": 96,
     "metadata": {},
     "output_type": "execute_result"
    }
   ],
   "source": [
    "writerSelectionsAgg = (writerSelections.groupby('primaryName')\n",
    "   .agg({'tconst':'count', 'numVotes': 'sum'})\n",
    "   .reset_index()\n",
    "   .rename(columns={'Movies Titles':'Average Rating'})\n",
    "   )\n",
    "writerSelectionsAgg.shape"
   ]
  },
  {
   "cell_type": "code",
   "execution_count": 97,
   "metadata": {},
   "outputs": [
    {
     "data": {
      "text/html": [
       "<div>\n",
       "<style scoped>\n",
       "    .dataframe tbody tr th:only-of-type {\n",
       "        vertical-align: middle;\n",
       "    }\n",
       "\n",
       "    .dataframe tbody tr th {\n",
       "        vertical-align: top;\n",
       "    }\n",
       "\n",
       "    .dataframe thead th {\n",
       "        text-align: right;\n",
       "    }\n",
       "</style>\n",
       "<table border=\"1\" class=\"dataframe\">\n",
       "  <thead>\n",
       "    <tr style=\"text-align: right;\">\n",
       "      <th></th>\n",
       "      <th>primaryName</th>\n",
       "      <th>tconst</th>\n",
       "      <th>numVotes</th>\n",
       "    </tr>\n",
       "  </thead>\n",
       "  <tbody>\n",
       "    <tr>\n",
       "      <th>0</th>\n",
       "      <td>A.E. Hotchner</td>\n",
       "      <td>1</td>\n",
       "      <td>6566</td>\n",
       "    </tr>\n",
       "    <tr>\n",
       "      <th>1</th>\n",
       "      <td>A.S. Byatt</td>\n",
       "      <td>1</td>\n",
       "      <td>12151</td>\n",
       "    </tr>\n",
       "    <tr>\n",
       "      <th>2</th>\n",
       "      <td>Aaron Harberts</td>\n",
       "      <td>1</td>\n",
       "      <td>22140</td>\n",
       "    </tr>\n",
       "    <tr>\n",
       "      <th>3</th>\n",
       "      <td>Aaron McGruder</td>\n",
       "      <td>1</td>\n",
       "      <td>30942</td>\n",
       "    </tr>\n",
       "    <tr>\n",
       "      <th>4</th>\n",
       "      <td>Aaron Mendelsohn</td>\n",
       "      <td>1</td>\n",
       "      <td>14535</td>\n",
       "    </tr>\n",
       "  </tbody>\n",
       "</table>\n",
       "</div>"
      ],
      "text/plain": [
       "        primaryName  tconst  numVotes\n",
       "0     A.E. Hotchner       1      6566\n",
       "1        A.S. Byatt       1     12151\n",
       "2    Aaron Harberts       1     22140\n",
       "3    Aaron McGruder       1     30942\n",
       "4  Aaron Mendelsohn       1     14535"
      ]
     },
     "execution_count": 97,
     "metadata": {},
     "output_type": "execute_result"
    }
   ],
   "source": [
    "writerSelectionsAgg.head()"
   ]
  },
  {
   "cell_type": "code",
   "execution_count": 98,
   "metadata": {},
   "outputs": [
    {
     "data": {
      "text/plain": [
       "(37, 3)"
      ]
     },
     "execution_count": 98,
     "metadata": {},
     "output_type": "execute_result"
    }
   ],
   "source": [
    "writerSelectionsAgg = writerSelectionsAgg[writerSelectionsAgg.tconst >= 10]\n",
    "writerSelectionsAgg.shape"
   ]
  },
  {
   "cell_type": "code",
   "execution_count": 99,
   "metadata": {},
   "outputs": [],
   "source": [
    "writerSelectionsAgg.sort_values('numVotes', ascending=False, inplace=True)"
   ]
  },
  {
   "cell_type": "markdown",
   "metadata": {},
   "source": [
    "# Top 10 Writers Ranked by Highest Movie Rating With 10 or More Films "
   ]
  },
  {
   "cell_type": "code",
   "execution_count": 100,
   "metadata": {},
   "outputs": [
    {
     "data": {
      "text/html": [
       "<div>\n",
       "<style scoped>\n",
       "    .dataframe tbody tr th:only-of-type {\n",
       "        vertical-align: middle;\n",
       "    }\n",
       "\n",
       "    .dataframe tbody tr th {\n",
       "        vertical-align: top;\n",
       "    }\n",
       "\n",
       "    .dataframe thead th {\n",
       "        text-align: right;\n",
       "    }\n",
       "</style>\n",
       "<table border=\"1\" class=\"dataframe\">\n",
       "  <thead>\n",
       "    <tr style=\"text-align: right;\">\n",
       "      <th></th>\n",
       "      <th>primaryName</th>\n",
       "      <th>tconst</th>\n",
       "      <th>numVotes</th>\n",
       "    </tr>\n",
       "  </thead>\n",
       "  <tbody>\n",
       "    <tr>\n",
       "      <th>1687</th>\n",
       "      <td>Stan Lee</td>\n",
       "      <td>20</td>\n",
       "      <td>8598244</td>\n",
       "    </tr>\n",
       "    <tr>\n",
       "      <th>448</th>\n",
       "      <td>David S. Goyer</td>\n",
       "      <td>13</td>\n",
       "      <td>6516372</td>\n",
       "    </tr>\n",
       "    <tr>\n",
       "      <th>572</th>\n",
       "      <td>Fran Walsh</td>\n",
       "      <td>11</td>\n",
       "      <td>6463701</td>\n",
       "    </tr>\n",
       "    <tr>\n",
       "      <th>616</th>\n",
       "      <td>George Lucas</td>\n",
       "      <td>13</td>\n",
       "      <td>5762892</td>\n",
       "    </tr>\n",
       "    <tr>\n",
       "      <th>1703</th>\n",
       "      <td>Stephen King</td>\n",
       "      <td>42</td>\n",
       "      <td>5628346</td>\n",
       "    </tr>\n",
       "    <tr>\n",
       "      <th>1775</th>\n",
       "      <td>Terry Rossio</td>\n",
       "      <td>18</td>\n",
       "      <td>4822460</td>\n",
       "    </tr>\n",
       "    <tr>\n",
       "      <th>1763</th>\n",
       "      <td>Ted Elliott</td>\n",
       "      <td>17</td>\n",
       "      <td>4556464</td>\n",
       "    </tr>\n",
       "    <tr>\n",
       "      <th>436</th>\n",
       "      <td>David Koepp</td>\n",
       "      <td>21</td>\n",
       "      <td>4473843</td>\n",
       "    </tr>\n",
       "    <tr>\n",
       "      <th>30</th>\n",
       "      <td>Akiva Goldsman</td>\n",
       "      <td>17</td>\n",
       "      <td>3748719</td>\n",
       "    </tr>\n",
       "    <tr>\n",
       "      <th>1737</th>\n",
       "      <td>Steven Zaillian</td>\n",
       "      <td>12</td>\n",
       "      <td>3713421</td>\n",
       "    </tr>\n",
       "  </tbody>\n",
       "</table>\n",
       "</div>"
      ],
      "text/plain": [
       "          primaryName  tconst  numVotes\n",
       "1687         Stan Lee      20   8598244\n",
       "448    David S. Goyer      13   6516372\n",
       "572        Fran Walsh      11   6463701\n",
       "616      George Lucas      13   5762892\n",
       "1703     Stephen King      42   5628346\n",
       "1775     Terry Rossio      18   4822460\n",
       "1763      Ted Elliott      17   4556464\n",
       "436       David Koepp      21   4473843\n",
       "30     Akiva Goldsman      17   3748719\n",
       "1737  Steven Zaillian      12   3713421"
      ]
     },
     "execution_count": 100,
     "metadata": {},
     "output_type": "execute_result"
    }
   ],
   "source": [
    "writerSelectionsAgg.head(10)"
   ]
  },
  {
   "cell_type": "code",
   "execution_count": null,
   "metadata": {},
   "outputs": [],
   "source": []
  }
 ],
 "metadata": {
  "kernelspec": {
   "display_name": "Python 3",
   "language": "python",
   "name": "python3"
  },
  "language_info": {
   "codemirror_mode": {
    "name": "ipython",
    "version": 3
   },
   "file_extension": ".py",
   "mimetype": "text/x-python",
   "name": "python",
   "nbconvert_exporter": "python",
   "pygments_lexer": "ipython3",
   "version": "3.6.4"
  }
 },
 "nbformat": 4,
 "nbformat_minor": 2
}
