{
 "cells": [
  {
   "cell_type": "markdown",
   "metadata": {},
   "source": [
    "# Movie Selection Exploratory Data Analysis (EDA)"
   ]
  },
  {
   "cell_type": "code",
   "execution_count": 11,
   "metadata": {},
   "outputs": [],
   "source": [
    "import pandas as pd"
   ]
  },
  {
   "cell_type": "code",
   "execution_count": 12,
   "metadata": {},
   "outputs": [
    {
     "data": {
      "text/plain": [
       "(58623, 12)"
      ]
     },
     "execution_count": 12,
     "metadata": {},
     "output_type": "execute_result"
    }
   ],
   "source": [
    "movieSelections = pd.read_pickle('v1_movieSelections.pkl')\n",
    "\n",
    "movieSelections.shape"
   ]
  },
  {
   "cell_type": "code",
   "execution_count": 13,
   "metadata": {},
   "outputs": [
    {
     "data": {
      "text/plain": [
       "(8070, 12)"
      ]
     },
     "execution_count": 13,
     "metadata": {},
     "output_type": "execute_result"
    }
   ],
   "source": [
    "# select all movie titles with 5000 or more votes\n",
    "movieSelections5kVotes = movieSelections[movieSelections.numVotes >= 5000]\n",
    "\n",
    "# 08/09 - scope change\n",
    "#movieSelections95Pct = movieSelections[movieSelections.numVotes >= 17149] # 95% percentile\n",
    "\n",
    "movieSelections5kVotes.shape"
   ]
  },
  {
   "cell_type": "code",
   "execution_count": 14,
   "metadata": {},
   "outputs": [],
   "source": [
    "# save cleaned data set to a pickle file\n",
    "movieSelections5kVotes.to_pickle('v1_movieSelections5kVotes.pkl')"
   ]
  },
  {
   "cell_type": "code",
   "execution_count": 15,
   "metadata": {},
   "outputs": [],
   "source": [
    "# 08/09 - scope change\n",
    "#movieSelections95Pct = movieSelections95Pct.sort_values(by='averageRating', ascending=False)"
   ]
  },
  {
   "cell_type": "markdown",
   "metadata": {},
   "source": [
    "### Top 10 Ranked Movies By Average Rating"
   ]
  },
  {
   "cell_type": "code",
   "execution_count": 16,
   "metadata": {},
   "outputs": [],
   "source": [
    "# 08/09 - scope change\n",
    "#movieSelections95Pct.head(10)"
   ]
  },
  {
   "cell_type": "markdown",
   "metadata": {},
   "source": [
    "### Top 10 Ranked Movies By Number of Votes"
   ]
  },
  {
   "cell_type": "code",
   "execution_count": 17,
   "metadata": {},
   "outputs": [],
   "source": [
    "top10ByVotes = movieSelections5kVotes.sort_values(by='numVotes', ascending=False)"
   ]
  },
  {
   "cell_type": "code",
   "execution_count": 18,
   "metadata": {},
   "outputs": [
    {
     "data": {
      "text/html": [
       "<div>\n",
       "<style scoped>\n",
       "    .dataframe tbody tr th:only-of-type {\n",
       "        vertical-align: middle;\n",
       "    }\n",
       "\n",
       "    .dataframe tbody tr th {\n",
       "        vertical-align: top;\n",
       "    }\n",
       "\n",
       "    .dataframe thead th {\n",
       "        text-align: right;\n",
       "    }\n",
       "</style>\n",
       "<table border=\"1\" class=\"dataframe\">\n",
       "  <thead>\n",
       "    <tr style=\"text-align: right;\">\n",
       "      <th></th>\n",
       "      <th>tconst</th>\n",
       "      <th>titleType</th>\n",
       "      <th>primaryTitle</th>\n",
       "      <th>originalTitle</th>\n",
       "      <th>isAdult</th>\n",
       "      <th>startYear</th>\n",
       "      <th>endYear</th>\n",
       "      <th>runtimeMinutes</th>\n",
       "      <th>genres</th>\n",
       "      <th>titleId</th>\n",
       "      <th>averageRating</th>\n",
       "      <th>numVotes</th>\n",
       "    </tr>\n",
       "  </thead>\n",
       "  <tbody>\n",
       "    <tr>\n",
       "      <th>21092</th>\n",
       "      <td>tt0111161</td>\n",
       "      <td>movie</td>\n",
       "      <td>The Shawshank Redemption</td>\n",
       "      <td>The Shawshank Redemption</td>\n",
       "      <td>0</td>\n",
       "      <td>1994</td>\n",
       "      <td>\\N</td>\n",
       "      <td>142</td>\n",
       "      <td>Drama</td>\n",
       "      <td>tt0111161</td>\n",
       "      <td>9.3</td>\n",
       "      <td>1971974</td>\n",
       "    </tr>\n",
       "    <tr>\n",
       "      <th>35347</th>\n",
       "      <td>tt0468569</td>\n",
       "      <td>movie</td>\n",
       "      <td>The Dark Knight</td>\n",
       "      <td>The Dark Knight</td>\n",
       "      <td>0</td>\n",
       "      <td>2008</td>\n",
       "      <td>\\N</td>\n",
       "      <td>152</td>\n",
       "      <td>Action,Crime,Drama</td>\n",
       "      <td>tt0468569</td>\n",
       "      <td>9.0</td>\n",
       "      <td>1942691</td>\n",
       "    </tr>\n",
       "    <tr>\n",
       "      <th>41835</th>\n",
       "      <td>tt1375666</td>\n",
       "      <td>movie</td>\n",
       "      <td>Inception</td>\n",
       "      <td>Inception</td>\n",
       "      <td>0</td>\n",
       "      <td>2010</td>\n",
       "      <td>\\N</td>\n",
       "      <td>148</td>\n",
       "      <td>Action,Adventure,Sci-Fi</td>\n",
       "      <td>tt1375666</td>\n",
       "      <td>8.8</td>\n",
       "      <td>1726204</td>\n",
       "    </tr>\n",
       "    <tr>\n",
       "      <th>24243</th>\n",
       "      <td>tt0137523</td>\n",
       "      <td>movie</td>\n",
       "      <td>Fight Club</td>\n",
       "      <td>Fight Club</td>\n",
       "      <td>0</td>\n",
       "      <td>1999</td>\n",
       "      <td>\\N</td>\n",
       "      <td>139</td>\n",
       "      <td>Drama</td>\n",
       "      <td>tt0137523</td>\n",
       "      <td>8.8</td>\n",
       "      <td>1580019</td>\n",
       "    </tr>\n",
       "    <tr>\n",
       "      <th>21036</th>\n",
       "      <td>tt0110912</td>\n",
       "      <td>movie</td>\n",
       "      <td>Pulp Fiction</td>\n",
       "      <td>Pulp Fiction</td>\n",
       "      <td>0</td>\n",
       "      <td>1994</td>\n",
       "      <td>\\N</td>\n",
       "      <td>154</td>\n",
       "      <td>Crime,Drama</td>\n",
       "      <td>tt0110912</td>\n",
       "      <td>8.9</td>\n",
       "      <td>1541228</td>\n",
       "    </tr>\n",
       "    <tr>\n",
       "      <th>20828</th>\n",
       "      <td>tt0109830</td>\n",
       "      <td>movie</td>\n",
       "      <td>Forrest Gump</td>\n",
       "      <td>Forrest Gump</td>\n",
       "      <td>0</td>\n",
       "      <td>1994</td>\n",
       "      <td>\\N</td>\n",
       "      <td>142</td>\n",
       "      <td>Drama,Romance</td>\n",
       "      <td>tt0109830</td>\n",
       "      <td>8.8</td>\n",
       "      <td>1499008</td>\n",
       "    </tr>\n",
       "    <tr>\n",
       "      <th>23194</th>\n",
       "      <td>tt0120737</td>\n",
       "      <td>movie</td>\n",
       "      <td>The Lord of the Rings: The Fellowship of the Ring</td>\n",
       "      <td>The Lord of the Rings: The Fellowship of the Ring</td>\n",
       "      <td>0</td>\n",
       "      <td>2001</td>\n",
       "      <td>\\N</td>\n",
       "      <td>178</td>\n",
       "      <td>Adventure,Drama,Fantasy</td>\n",
       "      <td>tt0120737</td>\n",
       "      <td>8.8</td>\n",
       "      <td>1423906</td>\n",
       "    </tr>\n",
       "    <tr>\n",
       "      <th>24042</th>\n",
       "      <td>tt0133093</td>\n",
       "      <td>movie</td>\n",
       "      <td>The Matrix</td>\n",
       "      <td>The Matrix</td>\n",
       "      <td>0</td>\n",
       "      <td>1999</td>\n",
       "      <td>\\N</td>\n",
       "      <td>136</td>\n",
       "      <td>Action,Sci-Fi</td>\n",
       "      <td>tt0133093</td>\n",
       "      <td>8.7</td>\n",
       "      <td>1416650</td>\n",
       "    </tr>\n",
       "    <tr>\n",
       "      <th>25728</th>\n",
       "      <td>tt0167260</td>\n",
       "      <td>movie</td>\n",
       "      <td>The Lord of the Rings: The Return of the King</td>\n",
       "      <td>The Lord of the Rings: The Return of the King</td>\n",
       "      <td>0</td>\n",
       "      <td>2003</td>\n",
       "      <td>\\N</td>\n",
       "      <td>201</td>\n",
       "      <td>Adventure,Drama,Fantasy</td>\n",
       "      <td>tt0167260</td>\n",
       "      <td>8.9</td>\n",
       "      <td>1406586</td>\n",
       "    </tr>\n",
       "    <tr>\n",
       "      <th>11828</th>\n",
       "      <td>tt0068646</td>\n",
       "      <td>movie</td>\n",
       "      <td>The Godfather</td>\n",
       "      <td>The Godfather</td>\n",
       "      <td>0</td>\n",
       "      <td>1972</td>\n",
       "      <td>\\N</td>\n",
       "      <td>175</td>\n",
       "      <td>Crime,Drama</td>\n",
       "      <td>tt0068646</td>\n",
       "      <td>9.2</td>\n",
       "      <td>1350226</td>\n",
       "    </tr>\n",
       "  </tbody>\n",
       "</table>\n",
       "</div>"
      ],
      "text/plain": [
       "          tconst titleType                                       primaryTitle  \\\n",
       "21092  tt0111161     movie                           The Shawshank Redemption   \n",
       "35347  tt0468569     movie                                    The Dark Knight   \n",
       "41835  tt1375666     movie                                          Inception   \n",
       "24243  tt0137523     movie                                         Fight Club   \n",
       "21036  tt0110912     movie                                       Pulp Fiction   \n",
       "20828  tt0109830     movie                                       Forrest Gump   \n",
       "23194  tt0120737     movie  The Lord of the Rings: The Fellowship of the Ring   \n",
       "24042  tt0133093     movie                                         The Matrix   \n",
       "25728  tt0167260     movie      The Lord of the Rings: The Return of the King   \n",
       "11828  tt0068646     movie                                      The Godfather   \n",
       "\n",
       "                                           originalTitle  isAdult startYear  \\\n",
       "21092                           The Shawshank Redemption        0      1994   \n",
       "35347                                    The Dark Knight        0      2008   \n",
       "41835                                          Inception        0      2010   \n",
       "24243                                         Fight Club        0      1999   \n",
       "21036                                       Pulp Fiction        0      1994   \n",
       "20828                                       Forrest Gump        0      1994   \n",
       "23194  The Lord of the Rings: The Fellowship of the Ring        0      2001   \n",
       "24042                                         The Matrix        0      1999   \n",
       "25728      The Lord of the Rings: The Return of the King        0      2003   \n",
       "11828                                      The Godfather        0      1972   \n",
       "\n",
       "      endYear  runtimeMinutes                   genres    titleId  \\\n",
       "21092      \\N             142                    Drama  tt0111161   \n",
       "35347      \\N             152       Action,Crime,Drama  tt0468569   \n",
       "41835      \\N             148  Action,Adventure,Sci-Fi  tt1375666   \n",
       "24243      \\N             139                    Drama  tt0137523   \n",
       "21036      \\N             154              Crime,Drama  tt0110912   \n",
       "20828      \\N             142            Drama,Romance  tt0109830   \n",
       "23194      \\N             178  Adventure,Drama,Fantasy  tt0120737   \n",
       "24042      \\N             136            Action,Sci-Fi  tt0133093   \n",
       "25728      \\N             201  Adventure,Drama,Fantasy  tt0167260   \n",
       "11828      \\N             175              Crime,Drama  tt0068646   \n",
       "\n",
       "       averageRating  numVotes  \n",
       "21092            9.3   1971974  \n",
       "35347            9.0   1942691  \n",
       "41835            8.8   1726204  \n",
       "24243            8.8   1580019  \n",
       "21036            8.9   1541228  \n",
       "20828            8.8   1499008  \n",
       "23194            8.8   1423906  \n",
       "24042            8.7   1416650  \n",
       "25728            8.9   1406586  \n",
       "11828            9.2   1350226  "
      ]
     },
     "execution_count": 18,
     "metadata": {},
     "output_type": "execute_result"
    }
   ],
   "source": [
    "top10ByVotes.head(10)"
   ]
  },
  {
   "cell_type": "code",
   "execution_count": null,
   "metadata": {},
   "outputs": [],
   "source": []
  },
  {
   "cell_type": "code",
   "execution_count": null,
   "metadata": {},
   "outputs": [],
   "source": []
  }
 ],
 "metadata": {
  "kernelspec": {
   "display_name": "Python 3",
   "language": "python",
   "name": "python3"
  },
  "language_info": {
   "codemirror_mode": {
    "name": "ipython",
    "version": 3
   },
   "file_extension": ".py",
   "mimetype": "text/x-python",
   "name": "python",
   "nbconvert_exporter": "python",
   "pygments_lexer": "ipython3",
   "version": "3.6.4"
  }
 },
 "nbformat": 4,
 "nbformat_minor": 2
}
