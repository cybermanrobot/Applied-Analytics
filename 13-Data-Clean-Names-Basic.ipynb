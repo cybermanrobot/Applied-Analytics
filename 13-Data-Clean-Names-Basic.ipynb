{
 "cells": [
  {
   "cell_type": "markdown",
   "metadata": {},
   "source": [
    "# Data Clean on IMDB Name Basic Data Set"
   ]
  },
  {
   "cell_type": "code",
   "execution_count": 1,
   "metadata": {},
   "outputs": [],
   "source": [
    "# import libraries\n",
    "import pandas as pd\n",
    "import pickle\n",
    "from datetime import date"
   ]
  },
  {
   "cell_type": "code",
   "execution_count": 2,
   "metadata": {},
   "outputs": [
    {
     "data": {
      "text/plain": [
       "(8726558, 6)"
      ]
     },
     "execution_count": 2,
     "metadata": {},
     "output_type": "execute_result"
    }
   ],
   "source": [
    "# load the names basics dataset\n",
    "nBasics = pd.read_csv('./data/name.basics.tsv', index_col=None, na_values=['NA'], sep='\\t',low_memory=False)\n",
    "\n",
    "nBasics.shape"
   ]
  },
  {
   "cell_type": "code",
   "execution_count": 3,
   "metadata": {},
   "outputs": [
    {
     "data": {
      "text/html": [
       "<div>\n",
       "<style scoped>\n",
       "    .dataframe tbody tr th:only-of-type {\n",
       "        vertical-align: middle;\n",
       "    }\n",
       "\n",
       "    .dataframe tbody tr th {\n",
       "        vertical-align: top;\n",
       "    }\n",
       "\n",
       "    .dataframe thead th {\n",
       "        text-align: right;\n",
       "    }\n",
       "</style>\n",
       "<table border=\"1\" class=\"dataframe\">\n",
       "  <thead>\n",
       "    <tr style=\"text-align: right;\">\n",
       "      <th></th>\n",
       "      <th>nconst</th>\n",
       "      <th>primaryName</th>\n",
       "      <th>birthYear</th>\n",
       "      <th>deathYear</th>\n",
       "      <th>primaryProfession</th>\n",
       "      <th>knownForTitles</th>\n",
       "    </tr>\n",
       "  </thead>\n",
       "  <tbody>\n",
       "    <tr>\n",
       "      <th>0</th>\n",
       "      <td>nm0000001</td>\n",
       "      <td>Fred Astaire</td>\n",
       "      <td>1899</td>\n",
       "      <td>1987</td>\n",
       "      <td>soundtrack,actor,miscellaneous</td>\n",
       "      <td>tt0043044,tt0072308,tt0050419,tt0045537</td>\n",
       "    </tr>\n",
       "    <tr>\n",
       "      <th>1</th>\n",
       "      <td>nm0000002</td>\n",
       "      <td>Lauren Bacall</td>\n",
       "      <td>1924</td>\n",
       "      <td>2014</td>\n",
       "      <td>actress,soundtrack</td>\n",
       "      <td>tt0071877,tt0038355,tt0037382,tt0117057</td>\n",
       "    </tr>\n",
       "    <tr>\n",
       "      <th>2</th>\n",
       "      <td>nm0000003</td>\n",
       "      <td>Brigitte Bardot</td>\n",
       "      <td>1934</td>\n",
       "      <td>\\N</td>\n",
       "      <td>actress,soundtrack,producer</td>\n",
       "      <td>tt0049189,tt0057345,tt0054452,tt0059956</td>\n",
       "    </tr>\n",
       "    <tr>\n",
       "      <th>3</th>\n",
       "      <td>nm0000004</td>\n",
       "      <td>John Belushi</td>\n",
       "      <td>1949</td>\n",
       "      <td>1982</td>\n",
       "      <td>actor,writer,soundtrack</td>\n",
       "      <td>tt0072562,tt0080455,tt0078723,tt0077975</td>\n",
       "    </tr>\n",
       "    <tr>\n",
       "      <th>4</th>\n",
       "      <td>nm0000005</td>\n",
       "      <td>Ingmar Bergman</td>\n",
       "      <td>1918</td>\n",
       "      <td>2007</td>\n",
       "      <td>writer,director,actor</td>\n",
       "      <td>tt0050976,tt0060827,tt0083922,tt0050986</td>\n",
       "    </tr>\n",
       "  </tbody>\n",
       "</table>\n",
       "</div>"
      ],
      "text/plain": [
       "      nconst      primaryName birthYear deathYear  \\\n",
       "0  nm0000001     Fred Astaire      1899      1987   \n",
       "1  nm0000002    Lauren Bacall      1924      2014   \n",
       "2  nm0000003  Brigitte Bardot      1934        \\N   \n",
       "3  nm0000004     John Belushi      1949      1982   \n",
       "4  nm0000005   Ingmar Bergman      1918      2007   \n",
       "\n",
       "                primaryProfession                           knownForTitles  \n",
       "0  soundtrack,actor,miscellaneous  tt0043044,tt0072308,tt0050419,tt0045537  \n",
       "1              actress,soundtrack  tt0071877,tt0038355,tt0037382,tt0117057  \n",
       "2     actress,soundtrack,producer  tt0049189,tt0057345,tt0054452,tt0059956  \n",
       "3         actor,writer,soundtrack  tt0072562,tt0080455,tt0078723,tt0077975  \n",
       "4           writer,director,actor  tt0050976,tt0060827,tt0083922,tt0050986  "
      ]
     },
     "execution_count": 3,
     "metadata": {},
     "output_type": "execute_result"
    }
   ],
   "source": [
    "nBasics.head()"
   ]
  },
  {
   "cell_type": "code",
   "execution_count": 4,
   "metadata": {},
   "outputs": [
    {
     "data": {
      "text/plain": [
       "(8578876, 6)"
      ]
     },
     "execution_count": 4,
     "metadata": {},
     "output_type": "execute_result"
    }
   ],
   "source": [
    "# drop all movies that have no runtime value\n",
    "nBasicsSub = nBasics[nBasics.deathYear == '\\\\N']\n",
    "\n",
    "# display row & column counts\n",
    "nBasicsSub.shape"
   ]
  },
  {
   "cell_type": "code",
   "execution_count": 5,
   "metadata": {},
   "outputs": [
    {
     "data": {
      "text/plain": [
       "(282745, 6)"
      ]
     },
     "execution_count": 5,
     "metadata": {},
     "output_type": "execute_result"
    }
   ],
   "source": [
    "# drop all movies that have no runtime value\n",
    "nBasicsSub = nBasicsSub[nBasicsSub.birthYear != '\\\\N']\n",
    "\n",
    "# display row & column counts\n",
    "nBasicsSub.shape"
   ]
  },
  {
   "cell_type": "code",
   "execution_count": 6,
   "metadata": {},
   "outputs": [
    {
     "data": {
      "text/html": [
       "<div>\n",
       "<style scoped>\n",
       "    .dataframe tbody tr th:only-of-type {\n",
       "        vertical-align: middle;\n",
       "    }\n",
       "\n",
       "    .dataframe tbody tr th {\n",
       "        vertical-align: top;\n",
       "    }\n",
       "\n",
       "    .dataframe thead th {\n",
       "        text-align: right;\n",
       "    }\n",
       "</style>\n",
       "<table border=\"1\" class=\"dataframe\">\n",
       "  <thead>\n",
       "    <tr style=\"text-align: right;\">\n",
       "      <th></th>\n",
       "      <th>nconst</th>\n",
       "      <th>primaryName</th>\n",
       "      <th>birthYear</th>\n",
       "      <th>deathYear</th>\n",
       "      <th>primaryProfession</th>\n",
       "      <th>knownForTitles</th>\n",
       "    </tr>\n",
       "  </thead>\n",
       "  <tbody>\n",
       "    <tr>\n",
       "      <th>2</th>\n",
       "      <td>nm0000003</td>\n",
       "      <td>Brigitte Bardot</td>\n",
       "      <td>1934</td>\n",
       "      <td>\\N</td>\n",
       "      <td>actress,soundtrack,producer</td>\n",
       "      <td>tt0049189,tt0057345,tt0054452,tt0059956</td>\n",
       "    </tr>\n",
       "    <tr>\n",
       "      <th>12</th>\n",
       "      <td>nm0000013</td>\n",
       "      <td>Doris Day</td>\n",
       "      <td>1922</td>\n",
       "      <td>\\N</td>\n",
       "      <td>soundtrack,actress,producer</td>\n",
       "      <td>tt0060463,tt0055100,tt0053172,tt0048317</td>\n",
       "    </tr>\n",
       "    <tr>\n",
       "      <th>13</th>\n",
       "      <td>nm0000014</td>\n",
       "      <td>Olivia de Havilland</td>\n",
       "      <td>1916</td>\n",
       "      <td>\\N</td>\n",
       "      <td>actress,soundtrack</td>\n",
       "      <td>tt0031381,tt0041452,tt0040806,tt0029843</td>\n",
       "    </tr>\n",
       "    <tr>\n",
       "      <th>17</th>\n",
       "      <td>nm0000018</td>\n",
       "      <td>Kirk Douglas</td>\n",
       "      <td>1916</td>\n",
       "      <td>\\N</td>\n",
       "      <td>actor,producer,soundtrack</td>\n",
       "      <td>tt0052365,tt0049456,tt0054331,tt0056195</td>\n",
       "    </tr>\n",
       "    <tr>\n",
       "      <th>46</th>\n",
       "      <td>nm0000047</td>\n",
       "      <td>Sophia Loren</td>\n",
       "      <td>1934</td>\n",
       "      <td>\\N</td>\n",
       "      <td>actress,soundtrack</td>\n",
       "      <td>tt0060121,tt0076085,tt0054749,tt0058335</td>\n",
       "    </tr>\n",
       "  </tbody>\n",
       "</table>\n",
       "</div>"
      ],
      "text/plain": [
       "       nconst          primaryName birthYear deathYear  \\\n",
       "2   nm0000003      Brigitte Bardot      1934        \\N   \n",
       "12  nm0000013            Doris Day      1922        \\N   \n",
       "13  nm0000014  Olivia de Havilland      1916        \\N   \n",
       "17  nm0000018         Kirk Douglas      1916        \\N   \n",
       "46  nm0000047         Sophia Loren      1934        \\N   \n",
       "\n",
       "              primaryProfession                           knownForTitles  \n",
       "2   actress,soundtrack,producer  tt0049189,tt0057345,tt0054452,tt0059956  \n",
       "12  soundtrack,actress,producer  tt0060463,tt0055100,tt0053172,tt0048317  \n",
       "13           actress,soundtrack  tt0031381,tt0041452,tt0040806,tt0029843  \n",
       "17    actor,producer,soundtrack  tt0052365,tt0049456,tt0054331,tt0056195  \n",
       "46           actress,soundtrack  tt0060121,tt0076085,tt0054749,tt0058335  "
      ]
     },
     "execution_count": 6,
     "metadata": {},
     "output_type": "execute_result"
    }
   ],
   "source": [
    "nBasicsSub.head()"
   ]
  },
  {
   "cell_type": "code",
   "execution_count": 7,
   "metadata": {},
   "outputs": [
    {
     "data": {
      "text/plain": [
       "array(['1934', '1922', '1916', '1940', '1965', '1953', '1930', '1942',\n",
       "       '1939', '1963', '1935', '1968', '1967', '1969', '1955', '1952',\n",
       "       '1958', '1974', '1960', '1945', '1975', '1959', '1962', '1964',\n",
       "       '1957', '1954', '1973', '1948', '1961', '1970', '1966', '1979',\n",
       "       '1956', '1943', '1972', '1944', '1937', '1949', '1946', '1947',\n",
       "       '1971', '1950', '1981', '1980', '1976', '1977', '1936', '1951',\n",
       "       '1941', '1982', '1925', '1926', '1933', '1931', '1938', '1928',\n",
       "       '1932', '1929', '1927', '1984', '1986', '1978', '1985', '1983',\n",
       "       '1924', '1923', '1989', '1988', '1992', '1987', '1910', '1901',\n",
       "       '1990', '1896', '1919', '1892', '1904', '1898', '1895', '1908',\n",
       "       '1918', '1921', '1915', '1912', '1894', '1906', '1911', '1899',\n",
       "       '1889', '1991', '1902', '1920', '1890', '1907', '1884', '1879',\n",
       "       '1903', '1995', '1875', '1913', '1886', '1891', '1914', '1905',\n",
       "       '1881', '1883', '1893', '1917', '1994', '1876', '1996', '1860',\n",
       "       '1880', '1900', '1897', '1998', '1885', '1887', '1909', '1882',\n",
       "       '1993', '1866', '1874', '1861', '1872', '1877', '1849', '1888',\n",
       "       '1869', '1878', '1847', '1865', '1871', '1842', '1830', '1851',\n",
       "       '1870', '1868', '1854', '1863', '1999', '1859', '1862', '1997',\n",
       "       '1864', '1867', '1873', '2001', '1848', '1855', '1856', '1586',\n",
       "       '1846', '1852', '1784', '1836', '1668', '2000', '1844', '1843',\n",
       "       '0043', '1845', '1727', '2018', '1858', '1766', '2002', '1850',\n",
       "       '1828', '1824', '1829', '1823', '1834', '2006', '1752', '2003',\n",
       "       '1841', '1853', '2004', '1813', '2005', '2007', '1840', '2008',\n",
       "       '2009', '1568', '2010', '1746', '1839', '2011', '1067', '2012',\n",
       "       '0966', '2013', '2014', '2015', '1095', '1771', '2016', '2017',\n",
       "       '1777', '1758'], dtype=object)"
      ]
     },
     "execution_count": 7,
     "metadata": {},
     "output_type": "execute_result"
    }
   ],
   "source": [
    "nBasicsSub.birthYear.unique()"
   ]
  },
  {
   "cell_type": "code",
   "execution_count": 8,
   "metadata": {},
   "outputs": [],
   "source": [
    "# convert runtime minutes to an integer type\n",
    "nBasicsSub.birthYear = pd.to_numeric(nBasicsSub.birthYear , errors='coerce')"
   ]
  },
  {
   "cell_type": "code",
   "execution_count": 9,
   "metadata": {},
   "outputs": [
    {
     "data": {
      "text/html": [
       "<div>\n",
       "<style scoped>\n",
       "    .dataframe tbody tr th:only-of-type {\n",
       "        vertical-align: middle;\n",
       "    }\n",
       "\n",
       "    .dataframe tbody tr th {\n",
       "        vertical-align: top;\n",
       "    }\n",
       "\n",
       "    .dataframe thead th {\n",
       "        text-align: right;\n",
       "    }\n",
       "</style>\n",
       "<table border=\"1\" class=\"dataframe\">\n",
       "  <thead>\n",
       "    <tr style=\"text-align: right;\">\n",
       "      <th></th>\n",
       "      <th>nconst</th>\n",
       "      <th>primaryName</th>\n",
       "      <th>birthYear</th>\n",
       "      <th>deathYear</th>\n",
       "      <th>primaryProfession</th>\n",
       "      <th>knownForTitles</th>\n",
       "    </tr>\n",
       "  </thead>\n",
       "  <tbody>\n",
       "    <tr>\n",
       "      <th>2</th>\n",
       "      <td>nm0000003</td>\n",
       "      <td>Brigitte Bardot</td>\n",
       "      <td>1934</td>\n",
       "      <td>\\N</td>\n",
       "      <td>actress,soundtrack,producer</td>\n",
       "      <td>tt0049189,tt0057345,tt0054452,tt0059956</td>\n",
       "    </tr>\n",
       "    <tr>\n",
       "      <th>12</th>\n",
       "      <td>nm0000013</td>\n",
       "      <td>Doris Day</td>\n",
       "      <td>1922</td>\n",
       "      <td>\\N</td>\n",
       "      <td>soundtrack,actress,producer</td>\n",
       "      <td>tt0060463,tt0055100,tt0053172,tt0048317</td>\n",
       "    </tr>\n",
       "    <tr>\n",
       "      <th>13</th>\n",
       "      <td>nm0000014</td>\n",
       "      <td>Olivia de Havilland</td>\n",
       "      <td>1916</td>\n",
       "      <td>\\N</td>\n",
       "      <td>actress,soundtrack</td>\n",
       "      <td>tt0031381,tt0041452,tt0040806,tt0029843</td>\n",
       "    </tr>\n",
       "    <tr>\n",
       "      <th>17</th>\n",
       "      <td>nm0000018</td>\n",
       "      <td>Kirk Douglas</td>\n",
       "      <td>1916</td>\n",
       "      <td>\\N</td>\n",
       "      <td>actor,producer,soundtrack</td>\n",
       "      <td>tt0052365,tt0049456,tt0054331,tt0056195</td>\n",
       "    </tr>\n",
       "    <tr>\n",
       "      <th>46</th>\n",
       "      <td>nm0000047</td>\n",
       "      <td>Sophia Loren</td>\n",
       "      <td>1934</td>\n",
       "      <td>\\N</td>\n",
       "      <td>actress,soundtrack</td>\n",
       "      <td>tt0060121,tt0076085,tt0054749,tt0058335</td>\n",
       "    </tr>\n",
       "  </tbody>\n",
       "</table>\n",
       "</div>"
      ],
      "text/plain": [
       "       nconst          primaryName  birthYear deathYear  \\\n",
       "2   nm0000003      Brigitte Bardot       1934        \\N   \n",
       "12  nm0000013            Doris Day       1922        \\N   \n",
       "13  nm0000014  Olivia de Havilland       1916        \\N   \n",
       "17  nm0000018         Kirk Douglas       1916        \\N   \n",
       "46  nm0000047         Sophia Loren       1934        \\N   \n",
       "\n",
       "              primaryProfession                           knownForTitles  \n",
       "2   actress,soundtrack,producer  tt0049189,tt0057345,tt0054452,tt0059956  \n",
       "12  soundtrack,actress,producer  tt0060463,tt0055100,tt0053172,tt0048317  \n",
       "13           actress,soundtrack  tt0031381,tt0041452,tt0040806,tt0029843  \n",
       "17    actor,producer,soundtrack  tt0052365,tt0049456,tt0054331,tt0056195  \n",
       "46           actress,soundtrack  tt0060121,tt0076085,tt0054749,tt0058335  "
      ]
     },
     "execution_count": 9,
     "metadata": {},
     "output_type": "execute_result"
    }
   ],
   "source": [
    "nBasicsSub.head()"
   ]
  },
  {
   "cell_type": "code",
   "execution_count": 10,
   "metadata": {},
   "outputs": [
    {
     "data": {
      "text/plain": [
       "(279812, 6)"
      ]
     },
     "execution_count": 10,
     "metadata": {},
     "output_type": "execute_result"
    }
   ],
   "source": [
    "# drop all movies that have no runtime value\n",
    "nBasicsSub = nBasicsSub[nBasicsSub.birthYear > 1899]\n",
    "\n",
    "# display row & column counts\n",
    "nBasicsSub.shape"
   ]
  },
  {
   "cell_type": "code",
   "execution_count": 11,
   "metadata": {},
   "outputs": [],
   "source": [
    "def calculate_age(born):\n",
    "    today = date.today()\n",
    "    return today.year - born"
   ]
  },
  {
   "cell_type": "code",
   "execution_count": 12,
   "metadata": {},
   "outputs": [
    {
     "data": {
      "text/plain": [
       "(279812, 7)"
      ]
     },
     "execution_count": 12,
     "metadata": {},
     "output_type": "execute_result"
    }
   ],
   "source": [
    "nBasicsSub['Age'] = calculate_age(nBasicsSub.birthYear)\n",
    "\n",
    "# display row & column counts\n",
    "nBasicsSub.shape"
   ]
  },
  {
   "cell_type": "code",
   "execution_count": 13,
   "metadata": {},
   "outputs": [
    {
     "data": {
      "text/html": [
       "<div>\n",
       "<style scoped>\n",
       "    .dataframe tbody tr th:only-of-type {\n",
       "        vertical-align: middle;\n",
       "    }\n",
       "\n",
       "    .dataframe tbody tr th {\n",
       "        vertical-align: top;\n",
       "    }\n",
       "\n",
       "    .dataframe thead th {\n",
       "        text-align: right;\n",
       "    }\n",
       "</style>\n",
       "<table border=\"1\" class=\"dataframe\">\n",
       "  <thead>\n",
       "    <tr style=\"text-align: right;\">\n",
       "      <th></th>\n",
       "      <th>nconst</th>\n",
       "      <th>primaryName</th>\n",
       "      <th>birthYear</th>\n",
       "      <th>deathYear</th>\n",
       "      <th>primaryProfession</th>\n",
       "      <th>knownForTitles</th>\n",
       "      <th>Age</th>\n",
       "    </tr>\n",
       "  </thead>\n",
       "  <tbody>\n",
       "    <tr>\n",
       "      <th>2</th>\n",
       "      <td>nm0000003</td>\n",
       "      <td>Brigitte Bardot</td>\n",
       "      <td>1934</td>\n",
       "      <td>\\N</td>\n",
       "      <td>actress,soundtrack,producer</td>\n",
       "      <td>tt0049189,tt0057345,tt0054452,tt0059956</td>\n",
       "      <td>84</td>\n",
       "    </tr>\n",
       "    <tr>\n",
       "      <th>12</th>\n",
       "      <td>nm0000013</td>\n",
       "      <td>Doris Day</td>\n",
       "      <td>1922</td>\n",
       "      <td>\\N</td>\n",
       "      <td>soundtrack,actress,producer</td>\n",
       "      <td>tt0060463,tt0055100,tt0053172,tt0048317</td>\n",
       "      <td>96</td>\n",
       "    </tr>\n",
       "    <tr>\n",
       "      <th>13</th>\n",
       "      <td>nm0000014</td>\n",
       "      <td>Olivia de Havilland</td>\n",
       "      <td>1916</td>\n",
       "      <td>\\N</td>\n",
       "      <td>actress,soundtrack</td>\n",
       "      <td>tt0031381,tt0041452,tt0040806,tt0029843</td>\n",
       "      <td>102</td>\n",
       "    </tr>\n",
       "    <tr>\n",
       "      <th>17</th>\n",
       "      <td>nm0000018</td>\n",
       "      <td>Kirk Douglas</td>\n",
       "      <td>1916</td>\n",
       "      <td>\\N</td>\n",
       "      <td>actor,producer,soundtrack</td>\n",
       "      <td>tt0052365,tt0049456,tt0054331,tt0056195</td>\n",
       "      <td>102</td>\n",
       "    </tr>\n",
       "    <tr>\n",
       "      <th>46</th>\n",
       "      <td>nm0000047</td>\n",
       "      <td>Sophia Loren</td>\n",
       "      <td>1934</td>\n",
       "      <td>\\N</td>\n",
       "      <td>actress,soundtrack</td>\n",
       "      <td>tt0060121,tt0076085,tt0054749,tt0058335</td>\n",
       "      <td>84</td>\n",
       "    </tr>\n",
       "  </tbody>\n",
       "</table>\n",
       "</div>"
      ],
      "text/plain": [
       "       nconst          primaryName  birthYear deathYear  \\\n",
       "2   nm0000003      Brigitte Bardot       1934        \\N   \n",
       "12  nm0000013            Doris Day       1922        \\N   \n",
       "13  nm0000014  Olivia de Havilland       1916        \\N   \n",
       "17  nm0000018         Kirk Douglas       1916        \\N   \n",
       "46  nm0000047         Sophia Loren       1934        \\N   \n",
       "\n",
       "              primaryProfession                           knownForTitles  Age  \n",
       "2   actress,soundtrack,producer  tt0049189,tt0057345,tt0054452,tt0059956   84  \n",
       "12  soundtrack,actress,producer  tt0060463,tt0055100,tt0053172,tt0048317   96  \n",
       "13           actress,soundtrack  tt0031381,tt0041452,tt0040806,tt0029843  102  \n",
       "17    actor,producer,soundtrack  tt0052365,tt0049456,tt0054331,tt0056195  102  \n",
       "46           actress,soundtrack  tt0060121,tt0076085,tt0054749,tt0058335   84  "
      ]
     },
     "execution_count": 13,
     "metadata": {},
     "output_type": "execute_result"
    }
   ],
   "source": [
    "nBasicsSub.head()"
   ]
  },
  {
   "cell_type": "code",
   "execution_count": 14,
   "metadata": {},
   "outputs": [
    {
     "data": {
      "text/plain": [
       "array([ 84,  96, 102,  78,  53,  65,  88,  76,  79,  55,  83,  50,  51,\n",
       "        49,  63,  66,  60,  44,  58,  73,  43,  59,  56,  54,  61,  64,\n",
       "        45,  70,  57,  48,  52,  39,  62,  75,  46,  74,  81,  69,  72,\n",
       "        71,  47,  68,  37,  38,  42,  41,  82,  67,  77,  36,  93,  92,\n",
       "        85,  87,  80,  90,  86,  89,  91,  34,  32,  40,  33,  35,  94,\n",
       "        95,  29,  30,  26,  31, 108, 117,  28,  99, 114, 110, 100,  97,\n",
       "       103, 106, 112, 107,  27, 116,  98, 111, 115,  23, 105, 104, 113,\n",
       "       101,  24,  22, 118,  20, 109,  25,  19,  21,  17,  18,   0,  16,\n",
       "        12,  15,  14,  13,  11,  10,   9,   8,   7,   6,   5,   4,   3,\n",
       "         2,   1], dtype=int64)"
      ]
     },
     "execution_count": 14,
     "metadata": {},
     "output_type": "execute_result"
    }
   ],
   "source": [
    "nBasicsSub.Age.unique()"
   ]
  },
  {
   "cell_type": "code",
   "execution_count": 15,
   "metadata": {},
   "outputs": [
    {
     "data": {
      "text/plain": [
       "(275970, 7)"
      ]
     },
     "execution_count": 15,
     "metadata": {},
     "output_type": "execute_result"
    }
   ],
   "source": [
    "# drop all movies that have no runtime value\n",
    "nBasicsSub = nBasicsSub[nBasicsSub.Age < 103]\n",
    "\n",
    "# display row & column counts\n",
    "nBasicsSub.shape"
   ]
  },
  {
   "cell_type": "code",
   "execution_count": 16,
   "metadata": {},
   "outputs": [],
   "source": [
    "# save cleaned data set to a pickle file\n",
    "nBasicsSub.to_pickle('v1_nBasicsCleaned.pkl')"
   ]
  }
 ],
 "metadata": {
  "kernelspec": {
   "display_name": "Python 3",
   "language": "python",
   "name": "python3"
  },
  "language_info": {
   "codemirror_mode": {
    "name": "ipython",
    "version": 3
   },
   "file_extension": ".py",
   "mimetype": "text/x-python",
   "name": "python",
   "nbconvert_exporter": "python",
   "pygments_lexer": "ipython3",
   "version": "3.6.4"
  }
 },
 "nbformat": 4,
 "nbformat_minor": 2
}
